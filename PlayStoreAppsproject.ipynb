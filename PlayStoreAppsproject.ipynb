{
 "cells": [
  {
   "cell_type": "markdown",
   "id": "1454622a-582b-4866-acc3-67b643741632",
   "metadata": {},
   "source": [
    "## Google Play Store App Analysis"
   ]
  },
  {
   "cell_type": "markdown",
   "id": "4da6c422-b060-4de0-a4f9-f8a299613874",
   "metadata": {},
   "source": [
    "### Introduction"
   ]
  },
  {
   "cell_type": "markdown",
   "id": "0974e103-d3d1-4d34-8f16-adc3e9c52b10",
   "metadata": {},
   "source": [
    "The Google Play Store serves as a hub for millions of Android applications spanning various categories, target audiences, and purposes. In this project, we aim to perform an end-to-end data analysis using Python to explore trends, patterns, and actionable insights within the app marketplace.\n",
    "\n",
    "This analysis includes:\n",
    "\n",
    "- Cleaning and preprocessing the dataset (handling missing values, converting data types, etc.)\n",
    "- Exploratory Data Analysis (EDA) and visualizations\n",
    "- Feature engineering (e.g., install categories)\n",
    "- Uncovering relationships between app attributes such as genre, price, installs, size, reviews, and ratings\n",
    "\n",
    "The ultimate goal is to understand how different factors influence app popularity and user satisfaction, and to present data-driven insights that could help developers and product teams make informed decisions.\n"
   ]
  },
  {
   "cell_type": "markdown",
   "id": "3d39af64-70e1-4cc0-b2ef-854c2d092cde",
   "metadata": {},
   "source": [
    "### Importing Libraries"
   ]
  },
  {
   "cell_type": "code",
   "execution_count": 1,
   "id": "45db7bbd-cdb5-4fa0-aef1-61eb032790fe",
   "metadata": {},
   "outputs": [],
   "source": [
    "import numpy as np\n",
    "import pandas as pd\n",
    "import matplotlib.pyplot as plt\n",
    "import seaborn as sns\n",
    "\n",
    "import warnings\n",
    "warnings.filterwarnings('ignore')"
   ]
  },
  {
   "cell_type": "markdown",
   "id": "0206b1de-b3d1-40ce-898a-ca637116de4e",
   "metadata": {},
   "source": [
    "### Importing the dataset"
   ]
  },
  {
   "cell_type": "code",
   "execution_count": 2,
   "id": "af76e974-3c5c-49da-b0b0-cc0760b95f2e",
   "metadata": {},
   "outputs": [],
   "source": [
    "data=pd.read_csv('C:\\\\Users\\\\ACER\\\\Downloads\\\\googleplaystore.csv')"
   ]
  },
  {
   "cell_type": "markdown",
   "id": "4687c43c-e3a2-4849-a715-5d784d7412df",
   "metadata": {},
   "source": [
    "### Basic data exploration"
   ]
  },
  {
   "cell_type": "markdown",
   "id": "f6f74e40-254c-4df3-af1c-125367705281",
   "metadata": {},
   "source": [
    "#### Displaying First Few Records of Dataset"
   ]
  },
  {
   "cell_type": "code",
   "execution_count": 3,
   "id": "be16bc41-346f-4a23-94c5-9dffa2221b41",
   "metadata": {},
   "outputs": [
    {
     "data": {
      "text/html": [
       "<div>\n",
       "<style scoped>\n",
       "    .dataframe tbody tr th:only-of-type {\n",
       "        vertical-align: middle;\n",
       "    }\n",
       "\n",
       "    .dataframe tbody tr th {\n",
       "        vertical-align: top;\n",
       "    }\n",
       "\n",
       "    .dataframe thead th {\n",
       "        text-align: right;\n",
       "    }\n",
       "</style>\n",
       "<table border=\"1\" class=\"dataframe\">\n",
       "  <thead>\n",
       "    <tr style=\"text-align: right;\">\n",
       "      <th></th>\n",
       "      <th>App</th>\n",
       "      <th>Category</th>\n",
       "      <th>Rating</th>\n",
       "      <th>Reviews</th>\n",
       "      <th>Size</th>\n",
       "      <th>Installs</th>\n",
       "      <th>Type</th>\n",
       "      <th>Price</th>\n",
       "      <th>Content Rating</th>\n",
       "      <th>Genres</th>\n",
       "      <th>Last Updated</th>\n",
       "      <th>Current Ver</th>\n",
       "      <th>Android Ver</th>\n",
       "    </tr>\n",
       "  </thead>\n",
       "  <tbody>\n",
       "    <tr>\n",
       "      <th>0</th>\n",
       "      <td>Photo Editor &amp; Candy Camera &amp; Grid &amp; ScrapBook</td>\n",
       "      <td>ART_AND_DESIGN</td>\n",
       "      <td>4.1</td>\n",
       "      <td>159</td>\n",
       "      <td>19M</td>\n",
       "      <td>10,000+</td>\n",
       "      <td>Free</td>\n",
       "      <td>0</td>\n",
       "      <td>Everyone</td>\n",
       "      <td>Art &amp; Design</td>\n",
       "      <td>January 7, 2018</td>\n",
       "      <td>1.0.0</td>\n",
       "      <td>4.0.3 and up</td>\n",
       "    </tr>\n",
       "    <tr>\n",
       "      <th>1</th>\n",
       "      <td>Coloring book moana</td>\n",
       "      <td>ART_AND_DESIGN</td>\n",
       "      <td>3.9</td>\n",
       "      <td>967</td>\n",
       "      <td>14M</td>\n",
       "      <td>500,000+</td>\n",
       "      <td>Free</td>\n",
       "      <td>0</td>\n",
       "      <td>Everyone</td>\n",
       "      <td>Art &amp; Design;Pretend Play</td>\n",
       "      <td>January 15, 2018</td>\n",
       "      <td>2.0.0</td>\n",
       "      <td>4.0.3 and up</td>\n",
       "    </tr>\n",
       "    <tr>\n",
       "      <th>2</th>\n",
       "      <td>U Launcher Lite – FREE Live Cool Themes, Hide ...</td>\n",
       "      <td>ART_AND_DESIGN</td>\n",
       "      <td>4.7</td>\n",
       "      <td>87510</td>\n",
       "      <td>8.7M</td>\n",
       "      <td>5,000,000+</td>\n",
       "      <td>Free</td>\n",
       "      <td>0</td>\n",
       "      <td>Everyone</td>\n",
       "      <td>Art &amp; Design</td>\n",
       "      <td>August 1, 2018</td>\n",
       "      <td>1.2.4</td>\n",
       "      <td>4.0.3 and up</td>\n",
       "    </tr>\n",
       "    <tr>\n",
       "      <th>3</th>\n",
       "      <td>Sketch - Draw &amp; Paint</td>\n",
       "      <td>ART_AND_DESIGN</td>\n",
       "      <td>4.5</td>\n",
       "      <td>215644</td>\n",
       "      <td>25M</td>\n",
       "      <td>50,000,000+</td>\n",
       "      <td>Free</td>\n",
       "      <td>0</td>\n",
       "      <td>Teen</td>\n",
       "      <td>Art &amp; Design</td>\n",
       "      <td>June 8, 2018</td>\n",
       "      <td>Varies with device</td>\n",
       "      <td>4.2 and up</td>\n",
       "    </tr>\n",
       "    <tr>\n",
       "      <th>4</th>\n",
       "      <td>Pixel Draw - Number Art Coloring Book</td>\n",
       "      <td>ART_AND_DESIGN</td>\n",
       "      <td>4.3</td>\n",
       "      <td>967</td>\n",
       "      <td>2.8M</td>\n",
       "      <td>100,000+</td>\n",
       "      <td>Free</td>\n",
       "      <td>0</td>\n",
       "      <td>Everyone</td>\n",
       "      <td>Art &amp; Design;Creativity</td>\n",
       "      <td>June 20, 2018</td>\n",
       "      <td>1.1</td>\n",
       "      <td>4.4 and up</td>\n",
       "    </tr>\n",
       "  </tbody>\n",
       "</table>\n",
       "</div>"
      ],
      "text/plain": [
       "                                                 App        Category  Rating  \\\n",
       "0     Photo Editor & Candy Camera & Grid & ScrapBook  ART_AND_DESIGN     4.1   \n",
       "1                                Coloring book moana  ART_AND_DESIGN     3.9   \n",
       "2  U Launcher Lite – FREE Live Cool Themes, Hide ...  ART_AND_DESIGN     4.7   \n",
       "3                              Sketch - Draw & Paint  ART_AND_DESIGN     4.5   \n",
       "4              Pixel Draw - Number Art Coloring Book  ART_AND_DESIGN     4.3   \n",
       "\n",
       "  Reviews  Size     Installs  Type Price Content Rating  \\\n",
       "0     159   19M      10,000+  Free     0       Everyone   \n",
       "1     967   14M     500,000+  Free     0       Everyone   \n",
       "2   87510  8.7M   5,000,000+  Free     0       Everyone   \n",
       "3  215644   25M  50,000,000+  Free     0           Teen   \n",
       "4     967  2.8M     100,000+  Free     0       Everyone   \n",
       "\n",
       "                      Genres      Last Updated         Current Ver  \\\n",
       "0               Art & Design   January 7, 2018               1.0.0   \n",
       "1  Art & Design;Pretend Play  January 15, 2018               2.0.0   \n",
       "2               Art & Design    August 1, 2018               1.2.4   \n",
       "3               Art & Design      June 8, 2018  Varies with device   \n",
       "4    Art & Design;Creativity     June 20, 2018                 1.1   \n",
       "\n",
       "    Android Ver  \n",
       "0  4.0.3 and up  \n",
       "1  4.0.3 and up  \n",
       "2  4.0.3 and up  \n",
       "3    4.2 and up  \n",
       "4    4.4 and up  "
      ]
     },
     "execution_count": 3,
     "metadata": {},
     "output_type": "execute_result"
    }
   ],
   "source": [
    " # Display the first few rows\n",
    "data.head()"
   ]
  },
  {
   "cell_type": "markdown",
   "id": "c33c8aa6-3809-4da7-af68-40bf55002207",
   "metadata": {},
   "source": [
    "#### Displaying Last Few Records of Dataset"
   ]
  },
  {
   "cell_type": "code",
   "execution_count": 4,
   "id": "1431dd42-d13a-4694-ba9c-f957b601e841",
   "metadata": {},
   "outputs": [
    {
     "data": {
      "text/html": [
       "<div>\n",
       "<style scoped>\n",
       "    .dataframe tbody tr th:only-of-type {\n",
       "        vertical-align: middle;\n",
       "    }\n",
       "\n",
       "    .dataframe tbody tr th {\n",
       "        vertical-align: top;\n",
       "    }\n",
       "\n",
       "    .dataframe thead th {\n",
       "        text-align: right;\n",
       "    }\n",
       "</style>\n",
       "<table border=\"1\" class=\"dataframe\">\n",
       "  <thead>\n",
       "    <tr style=\"text-align: right;\">\n",
       "      <th></th>\n",
       "      <th>App</th>\n",
       "      <th>Category</th>\n",
       "      <th>Rating</th>\n",
       "      <th>Reviews</th>\n",
       "      <th>Size</th>\n",
       "      <th>Installs</th>\n",
       "      <th>Type</th>\n",
       "      <th>Price</th>\n",
       "      <th>Content Rating</th>\n",
       "      <th>Genres</th>\n",
       "      <th>Last Updated</th>\n",
       "      <th>Current Ver</th>\n",
       "      <th>Android Ver</th>\n",
       "    </tr>\n",
       "  </thead>\n",
       "  <tbody>\n",
       "    <tr>\n",
       "      <th>10836</th>\n",
       "      <td>Sya9a Maroc - FR</td>\n",
       "      <td>FAMILY</td>\n",
       "      <td>4.5</td>\n",
       "      <td>38</td>\n",
       "      <td>53M</td>\n",
       "      <td>5,000+</td>\n",
       "      <td>Free</td>\n",
       "      <td>0</td>\n",
       "      <td>Everyone</td>\n",
       "      <td>Education</td>\n",
       "      <td>July 25, 2017</td>\n",
       "      <td>1.48</td>\n",
       "      <td>4.1 and up</td>\n",
       "    </tr>\n",
       "    <tr>\n",
       "      <th>10837</th>\n",
       "      <td>Fr. Mike Schmitz Audio Teachings</td>\n",
       "      <td>FAMILY</td>\n",
       "      <td>5.0</td>\n",
       "      <td>4</td>\n",
       "      <td>3.6M</td>\n",
       "      <td>100+</td>\n",
       "      <td>Free</td>\n",
       "      <td>0</td>\n",
       "      <td>Everyone</td>\n",
       "      <td>Education</td>\n",
       "      <td>July 6, 2018</td>\n",
       "      <td>1.0</td>\n",
       "      <td>4.1 and up</td>\n",
       "    </tr>\n",
       "    <tr>\n",
       "      <th>10838</th>\n",
       "      <td>Parkinson Exercices FR</td>\n",
       "      <td>MEDICAL</td>\n",
       "      <td>NaN</td>\n",
       "      <td>3</td>\n",
       "      <td>9.5M</td>\n",
       "      <td>1,000+</td>\n",
       "      <td>Free</td>\n",
       "      <td>0</td>\n",
       "      <td>Everyone</td>\n",
       "      <td>Medical</td>\n",
       "      <td>January 20, 2017</td>\n",
       "      <td>1.0</td>\n",
       "      <td>2.2 and up</td>\n",
       "    </tr>\n",
       "    <tr>\n",
       "      <th>10839</th>\n",
       "      <td>The SCP Foundation DB fr nn5n</td>\n",
       "      <td>BOOKS_AND_REFERENCE</td>\n",
       "      <td>4.5</td>\n",
       "      <td>114</td>\n",
       "      <td>Varies with device</td>\n",
       "      <td>1,000+</td>\n",
       "      <td>Free</td>\n",
       "      <td>0</td>\n",
       "      <td>Mature 17+</td>\n",
       "      <td>Books &amp; Reference</td>\n",
       "      <td>January 19, 2015</td>\n",
       "      <td>Varies with device</td>\n",
       "      <td>Varies with device</td>\n",
       "    </tr>\n",
       "    <tr>\n",
       "      <th>10840</th>\n",
       "      <td>iHoroscope - 2018 Daily Horoscope &amp; Astrology</td>\n",
       "      <td>LIFESTYLE</td>\n",
       "      <td>4.5</td>\n",
       "      <td>398307</td>\n",
       "      <td>19M</td>\n",
       "      <td>10,000,000+</td>\n",
       "      <td>Free</td>\n",
       "      <td>0</td>\n",
       "      <td>Everyone</td>\n",
       "      <td>Lifestyle</td>\n",
       "      <td>July 25, 2018</td>\n",
       "      <td>Varies with device</td>\n",
       "      <td>Varies with device</td>\n",
       "    </tr>\n",
       "  </tbody>\n",
       "</table>\n",
       "</div>"
      ],
      "text/plain": [
       "                                                 App             Category  \\\n",
       "10836                               Sya9a Maroc - FR               FAMILY   \n",
       "10837               Fr. Mike Schmitz Audio Teachings               FAMILY   \n",
       "10838                         Parkinson Exercices FR              MEDICAL   \n",
       "10839                  The SCP Foundation DB fr nn5n  BOOKS_AND_REFERENCE   \n",
       "10840  iHoroscope - 2018 Daily Horoscope & Astrology            LIFESTYLE   \n",
       "\n",
       "       Rating Reviews                Size     Installs  Type Price  \\\n",
       "10836     4.5      38                 53M       5,000+  Free     0   \n",
       "10837     5.0       4                3.6M         100+  Free     0   \n",
       "10838     NaN       3                9.5M       1,000+  Free     0   \n",
       "10839     4.5     114  Varies with device       1,000+  Free     0   \n",
       "10840     4.5  398307                 19M  10,000,000+  Free     0   \n",
       "\n",
       "      Content Rating             Genres      Last Updated         Current Ver  \\\n",
       "10836       Everyone          Education     July 25, 2017                1.48   \n",
       "10837       Everyone          Education      July 6, 2018                 1.0   \n",
       "10838       Everyone            Medical  January 20, 2017                 1.0   \n",
       "10839     Mature 17+  Books & Reference  January 19, 2015  Varies with device   \n",
       "10840       Everyone          Lifestyle     July 25, 2018  Varies with device   \n",
       "\n",
       "              Android Ver  \n",
       "10836          4.1 and up  \n",
       "10837          4.1 and up  \n",
       "10838          2.2 and up  \n",
       "10839  Varies with device  \n",
       "10840  Varies with device  "
      ]
     },
     "execution_count": 4,
     "metadata": {},
     "output_type": "execute_result"
    }
   ],
   "source": [
    "data.tail()"
   ]
  },
  {
   "cell_type": "markdown",
   "id": "94077d5a-5c3d-4612-bf82-5c393892265c",
   "metadata": {},
   "source": [
    "#### Shape of the Dataset"
   ]
  },
  {
   "cell_type": "code",
   "execution_count": 5,
   "id": "57cba070-f2a9-4664-8d87-183d9052640f",
   "metadata": {},
   "outputs": [
    {
     "name": "stdout",
     "output_type": "stream",
     "text": [
      "Number of rows in dataset are:  10841\n",
      "Number of columns in dataset are:  13\n"
     ]
    }
   ],
   "source": [
    "print('Number of rows in dataset are: ',data.shape[0])\n",
    "print('Number of columns in dataset are: ',data.shape[1])"
   ]
  },
  {
   "cell_type": "markdown",
   "id": "3b483ce3-4769-4c3e-a2cb-e604e362a900",
   "metadata": {},
   "source": [
    "#### Basic Info of the Dataset"
   ]
  },
  {
   "cell_type": "code",
   "execution_count": 6,
   "id": "9fc57d4f-907e-4ecc-a894-69f548068e2d",
   "metadata": {},
   "outputs": [
    {
     "name": "stdout",
     "output_type": "stream",
     "text": [
      "<class 'pandas.core.frame.DataFrame'>\n",
      "RangeIndex: 10841 entries, 0 to 10840\n",
      "Data columns (total 13 columns):\n",
      " #   Column          Non-Null Count  Dtype  \n",
      "---  ------          --------------  -----  \n",
      " 0   App             10841 non-null  object \n",
      " 1   Category        10841 non-null  object \n",
      " 2   Rating          9367 non-null   float64\n",
      " 3   Reviews         10841 non-null  object \n",
      " 4   Size            10841 non-null  object \n",
      " 5   Installs        10841 non-null  object \n",
      " 6   Type            10840 non-null  object \n",
      " 7   Price           10841 non-null  object \n",
      " 8   Content Rating  10840 non-null  object \n",
      " 9   Genres          10841 non-null  object \n",
      " 10  Last Updated    10841 non-null  object \n",
      " 11  Current Ver     10833 non-null  object \n",
      " 12  Android Ver     10838 non-null  object \n",
      "dtypes: float64(1), object(12)\n",
      "memory usage: 1.1+ MB\n"
     ]
    }
   ],
   "source": [
    "data.info()"
   ]
  },
  {
   "cell_type": "markdown",
   "id": "8c46b34f-635d-47a1-8365-d45150a983db",
   "metadata": {},
   "source": [
    "As we know there are total 10841 records\n",
    "\n",
    "Columns Rating,Type,Content Rating,Current Ver,Android Ver have some null values\n",
    "\n",
    "Columns Reviews,Size,Installs,Price have wrong data types"
   ]
  },
  {
   "cell_type": "markdown",
   "id": "472f557d-8820-46ef-ab3c-8c8ea3bd8362",
   "metadata": {},
   "source": [
    "#### Statistics of Numerical columns"
   ]
  },
  {
   "cell_type": "code",
   "execution_count": 7,
   "id": "7c976252-1d03-425c-8948-2a15e176b92a",
   "metadata": {},
   "outputs": [
    {
     "data": {
      "text/html": [
       "<div>\n",
       "<style scoped>\n",
       "    .dataframe tbody tr th:only-of-type {\n",
       "        vertical-align: middle;\n",
       "    }\n",
       "\n",
       "    .dataframe tbody tr th {\n",
       "        vertical-align: top;\n",
       "    }\n",
       "\n",
       "    .dataframe thead th {\n",
       "        text-align: right;\n",
       "    }\n",
       "</style>\n",
       "<table border=\"1\" class=\"dataframe\">\n",
       "  <thead>\n",
       "    <tr style=\"text-align: right;\">\n",
       "      <th></th>\n",
       "      <th>Rating</th>\n",
       "    </tr>\n",
       "  </thead>\n",
       "  <tbody>\n",
       "    <tr>\n",
       "      <th>count</th>\n",
       "      <td>9367.000000</td>\n",
       "    </tr>\n",
       "    <tr>\n",
       "      <th>mean</th>\n",
       "      <td>4.193338</td>\n",
       "    </tr>\n",
       "    <tr>\n",
       "      <th>std</th>\n",
       "      <td>0.537431</td>\n",
       "    </tr>\n",
       "    <tr>\n",
       "      <th>min</th>\n",
       "      <td>1.000000</td>\n",
       "    </tr>\n",
       "    <tr>\n",
       "      <th>25%</th>\n",
       "      <td>4.000000</td>\n",
       "    </tr>\n",
       "    <tr>\n",
       "      <th>50%</th>\n",
       "      <td>4.300000</td>\n",
       "    </tr>\n",
       "    <tr>\n",
       "      <th>75%</th>\n",
       "      <td>4.500000</td>\n",
       "    </tr>\n",
       "    <tr>\n",
       "      <th>max</th>\n",
       "      <td>19.000000</td>\n",
       "    </tr>\n",
       "  </tbody>\n",
       "</table>\n",
       "</div>"
      ],
      "text/plain": [
       "            Rating\n",
       "count  9367.000000\n",
       "mean      4.193338\n",
       "std       0.537431\n",
       "min       1.000000\n",
       "25%       4.000000\n",
       "50%       4.300000\n",
       "75%       4.500000\n",
       "max      19.000000"
      ]
     },
     "execution_count": 7,
     "metadata": {},
     "output_type": "execute_result"
    }
   ],
   "source": [
    "data.describe()"
   ]
  },
  {
   "cell_type": "markdown",
   "id": "89ba51b7-457d-4271-9a32-926553be102c",
   "metadata": {},
   "source": [
    "### Data Cleaning"
   ]
  },
  {
   "cell_type": "markdown",
   "id": "e5836051-157a-4dfa-a546-21e4c3aaf68f",
   "metadata": {},
   "source": [
    "#### Checking missing values"
   ]
  },
  {
   "cell_type": "code",
   "execution_count": 16,
   "id": "6072b7a8-860c-4900-99bb-42d1fa248f72",
   "metadata": {},
   "outputs": [
    {
     "data": {
      "text/plain": [
       "App                  0\n",
       "Category             0\n",
       "Rating            1474\n",
       "Reviews              0\n",
       "Size                 0\n",
       "Installs             0\n",
       "Type                 1\n",
       "Price                0\n",
       "Content Rating       1\n",
       "Genres               0\n",
       "Last Updated         0\n",
       "Current Ver          8\n",
       "Android Ver          3\n",
       "dtype: int64"
      ]
     },
     "execution_count": 16,
     "metadata": {},
     "output_type": "execute_result"
    }
   ],
   "source": [
    "data.isnull().sum()"
   ]
  },
  {
   "cell_type": "markdown",
   "id": "2cc60438-9fd9-41dc-b189-e1c1fc960edb",
   "metadata": {},
   "source": [
    "As we can see there are 1474 null values in Rating , 1 null value in type and price column , 8 in current version and 3 in android version"
   ]
  },
  {
   "cell_type": "markdown",
   "id": "b9b2aaf1-4759-4b5e-ad63-71c99c1cad29",
   "metadata": {},
   "source": [
    "#### Handling missing values"
   ]
  },
  {
   "cell_type": "code",
   "execution_count": 10,
   "id": "8326115f-4b0b-4113-9c82-eaec9d746683",
   "metadata": {},
   "outputs": [],
   "source": [
    "data.Rating.fillna(data['Rating'].mean(),inplace=True)"
   ]
  },
  {
   "cell_type": "markdown",
   "id": "e50609aa-f7b7-4b16-9d9f-34360fe4755a",
   "metadata": {},
   "source": [
    "Filled the missing values in Rating column with the mean value of rating column because there are large amount of missing values in Rating we cannot drop them all as it will cause high data loss"
   ]
  },
  {
   "cell_type": "code",
   "execution_count": 11,
   "id": "75aedb7c-a933-40bb-9412-40ae2b629f9c",
   "metadata": {},
   "outputs": [
    {
     "data": {
      "text/plain": [
       "App               0\n",
       "Category          0\n",
       "Rating            0\n",
       "Reviews           0\n",
       "Size              0\n",
       "Installs          0\n",
       "Type              1\n",
       "Price             0\n",
       "Content Rating    1\n",
       "Genres            0\n",
       "Last Updated      0\n",
       "Current Ver       8\n",
       "Android Ver       3\n",
       "dtype: int64"
      ]
     },
     "execution_count": 11,
     "metadata": {},
     "output_type": "execute_result"
    }
   ],
   "source": [
    "data.isnull().sum()"
   ]
  },
  {
   "cell_type": "markdown",
   "id": "5d51e497-2823-4714-9946-bb52a43af475",
   "metadata": {},
   "source": [
    "Now the missing values are remained in Type,Content Rating,Current Ver and Android Ver columns . Because these are less in number we can drop them as it will not cause high data loss"
   ]
  },
  {
   "cell_type": "code",
   "execution_count": 12,
   "id": "775cfffb-9a30-4ed5-8afe-947496056b92",
   "metadata": {},
   "outputs": [],
   "source": [
    "data.dropna(inplace=True)"
   ]
  },
  {
   "cell_type": "code",
   "execution_count": 13,
   "id": "4dcf5fb3-d62a-4df3-b211-0df115ea79bd",
   "metadata": {},
   "outputs": [
    {
     "data": {
      "text/plain": [
       "App               0\n",
       "Category          0\n",
       "Rating            0\n",
       "Reviews           0\n",
       "Size              0\n",
       "Installs          0\n",
       "Type              0\n",
       "Price             0\n",
       "Content Rating    0\n",
       "Genres            0\n",
       "Last Updated      0\n",
       "Current Ver       0\n",
       "Android Ver       0\n",
       "dtype: int64"
      ]
     },
     "execution_count": 13,
     "metadata": {},
     "output_type": "execute_result"
    }
   ],
   "source": [
    "data.isnull().sum()"
   ]
  },
  {
   "cell_type": "markdown",
   "id": "f8ee8b2d-bf93-437f-9ecc-fb068482c62a",
   "metadata": {},
   "source": [
    "All the missing values are handled in all the columns"
   ]
  },
  {
   "cell_type": "code",
   "execution_count": 14,
   "id": "30effa06-2b2a-41be-b921-b629b0321282",
   "metadata": {},
   "outputs": [
    {
     "data": {
      "text/plain": [
       "(10829, 13)"
      ]
     },
     "execution_count": 14,
     "metadata": {},
     "output_type": "execute_result"
    }
   ],
   "source": [
    "data.shape"
   ]
  },
  {
   "cell_type": "markdown",
   "id": "d076e8d5-90de-4358-86b9-514383539e48",
   "metadata": {},
   "source": [
    "Now we are left with 10829 records in the dataset"
   ]
  },
  {
   "cell_type": "markdown",
   "id": "be781a10-2884-42fa-bd08-b6c16ddb6636",
   "metadata": {},
   "source": [
    "Now resetting the index"
   ]
  },
  {
   "cell_type": "code",
   "execution_count": 15,
   "id": "c0a86b1e-1c0c-4d89-ac44-f1f5096de4b1",
   "metadata": {},
   "outputs": [],
   "source": [
    "data.reset_index(drop=True,inplace=True)"
   ]
  },
  {
   "cell_type": "code",
   "execution_count": 16,
   "id": "52af1cd5-412f-4b32-9205-9ecea95f2fb1",
   "metadata": {},
   "outputs": [
    {
     "data": {
      "text/html": [
       "<div>\n",
       "<style scoped>\n",
       "    .dataframe tbody tr th:only-of-type {\n",
       "        vertical-align: middle;\n",
       "    }\n",
       "\n",
       "    .dataframe tbody tr th {\n",
       "        vertical-align: top;\n",
       "    }\n",
       "\n",
       "    .dataframe thead th {\n",
       "        text-align: right;\n",
       "    }\n",
       "</style>\n",
       "<table border=\"1\" class=\"dataframe\">\n",
       "  <thead>\n",
       "    <tr style=\"text-align: right;\">\n",
       "      <th></th>\n",
       "      <th>App</th>\n",
       "      <th>Category</th>\n",
       "      <th>Rating</th>\n",
       "      <th>Reviews</th>\n",
       "      <th>Size</th>\n",
       "      <th>Installs</th>\n",
       "      <th>Type</th>\n",
       "      <th>Price</th>\n",
       "      <th>Content Rating</th>\n",
       "      <th>Genres</th>\n",
       "      <th>Last Updated</th>\n",
       "      <th>Current Ver</th>\n",
       "      <th>Android Ver</th>\n",
       "    </tr>\n",
       "  </thead>\n",
       "  <tbody>\n",
       "    <tr>\n",
       "      <th>0</th>\n",
       "      <td>Photo Editor &amp; Candy Camera &amp; Grid &amp; ScrapBook</td>\n",
       "      <td>ART_AND_DESIGN</td>\n",
       "      <td>4.1</td>\n",
       "      <td>159</td>\n",
       "      <td>19M</td>\n",
       "      <td>10,000+</td>\n",
       "      <td>Free</td>\n",
       "      <td>0</td>\n",
       "      <td>Everyone</td>\n",
       "      <td>Art &amp; Design</td>\n",
       "      <td>January 7, 2018</td>\n",
       "      <td>1.0.0</td>\n",
       "      <td>4.0.3 and up</td>\n",
       "    </tr>\n",
       "    <tr>\n",
       "      <th>1</th>\n",
       "      <td>Coloring book moana</td>\n",
       "      <td>ART_AND_DESIGN</td>\n",
       "      <td>3.9</td>\n",
       "      <td>967</td>\n",
       "      <td>14M</td>\n",
       "      <td>500,000+</td>\n",
       "      <td>Free</td>\n",
       "      <td>0</td>\n",
       "      <td>Everyone</td>\n",
       "      <td>Art &amp; Design;Pretend Play</td>\n",
       "      <td>January 15, 2018</td>\n",
       "      <td>2.0.0</td>\n",
       "      <td>4.0.3 and up</td>\n",
       "    </tr>\n",
       "    <tr>\n",
       "      <th>2</th>\n",
       "      <td>U Launcher Lite – FREE Live Cool Themes, Hide ...</td>\n",
       "      <td>ART_AND_DESIGN</td>\n",
       "      <td>4.7</td>\n",
       "      <td>87510</td>\n",
       "      <td>8.7M</td>\n",
       "      <td>5,000,000+</td>\n",
       "      <td>Free</td>\n",
       "      <td>0</td>\n",
       "      <td>Everyone</td>\n",
       "      <td>Art &amp; Design</td>\n",
       "      <td>August 1, 2018</td>\n",
       "      <td>1.2.4</td>\n",
       "      <td>4.0.3 and up</td>\n",
       "    </tr>\n",
       "    <tr>\n",
       "      <th>3</th>\n",
       "      <td>Sketch - Draw &amp; Paint</td>\n",
       "      <td>ART_AND_DESIGN</td>\n",
       "      <td>4.5</td>\n",
       "      <td>215644</td>\n",
       "      <td>25M</td>\n",
       "      <td>50,000,000+</td>\n",
       "      <td>Free</td>\n",
       "      <td>0</td>\n",
       "      <td>Teen</td>\n",
       "      <td>Art &amp; Design</td>\n",
       "      <td>June 8, 2018</td>\n",
       "      <td>Varies with device</td>\n",
       "      <td>4.2 and up</td>\n",
       "    </tr>\n",
       "    <tr>\n",
       "      <th>4</th>\n",
       "      <td>Pixel Draw - Number Art Coloring Book</td>\n",
       "      <td>ART_AND_DESIGN</td>\n",
       "      <td>4.3</td>\n",
       "      <td>967</td>\n",
       "      <td>2.8M</td>\n",
       "      <td>100,000+</td>\n",
       "      <td>Free</td>\n",
       "      <td>0</td>\n",
       "      <td>Everyone</td>\n",
       "      <td>Art &amp; Design;Creativity</td>\n",
       "      <td>June 20, 2018</td>\n",
       "      <td>1.1</td>\n",
       "      <td>4.4 and up</td>\n",
       "    </tr>\n",
       "  </tbody>\n",
       "</table>\n",
       "</div>"
      ],
      "text/plain": [
       "                                                 App        Category  Rating  \\\n",
       "0     Photo Editor & Candy Camera & Grid & ScrapBook  ART_AND_DESIGN     4.1   \n",
       "1                                Coloring book moana  ART_AND_DESIGN     3.9   \n",
       "2  U Launcher Lite – FREE Live Cool Themes, Hide ...  ART_AND_DESIGN     4.7   \n",
       "3                              Sketch - Draw & Paint  ART_AND_DESIGN     4.5   \n",
       "4              Pixel Draw - Number Art Coloring Book  ART_AND_DESIGN     4.3   \n",
       "\n",
       "  Reviews  Size     Installs  Type Price Content Rating  \\\n",
       "0     159   19M      10,000+  Free     0       Everyone   \n",
       "1     967   14M     500,000+  Free     0       Everyone   \n",
       "2   87510  8.7M   5,000,000+  Free     0       Everyone   \n",
       "3  215644   25M  50,000,000+  Free     0           Teen   \n",
       "4     967  2.8M     100,000+  Free     0       Everyone   \n",
       "\n",
       "                      Genres      Last Updated         Current Ver  \\\n",
       "0               Art & Design   January 7, 2018               1.0.0   \n",
       "1  Art & Design;Pretend Play  January 15, 2018               2.0.0   \n",
       "2               Art & Design    August 1, 2018               1.2.4   \n",
       "3               Art & Design      June 8, 2018  Varies with device   \n",
       "4    Art & Design;Creativity     June 20, 2018                 1.1   \n",
       "\n",
       "    Android Ver  \n",
       "0  4.0.3 and up  \n",
       "1  4.0.3 and up  \n",
       "2  4.0.3 and up  \n",
       "3    4.2 and up  \n",
       "4    4.4 and up  "
      ]
     },
     "execution_count": 16,
     "metadata": {},
     "output_type": "execute_result"
    }
   ],
   "source": [
    "data.head()"
   ]
  },
  {
   "cell_type": "markdown",
   "id": "51c8711f-2f38-4094-8aa6-a9ae3dd59a7b",
   "metadata": {},
   "source": [
    "#### Correcting the data types of columns"
   ]
  },
  {
   "cell_type": "markdown",
   "id": "dd001fc1-ade5-40d1-93a8-af5a7bb40004",
   "metadata": {},
   "source": [
    "##### Changing datatype of column review"
   ]
  },
  {
   "cell_type": "code",
   "execution_count": 20,
   "id": "8bf146e6-73c6-44d4-8b10-2d017dfb4a23",
   "metadata": {},
   "outputs": [
    {
     "name": "stdout",
     "output_type": "stream",
     "text": [
      "int32\n"
     ]
    }
   ],
   "source": [
    "print(data.Reviews.dtype)"
   ]
  },
  {
   "cell_type": "markdown",
   "id": "be9390b5-b1d1-439c-994a-892734c9540f",
   "metadata": {},
   "source": [
    "The existing data type of Reviews column is object"
   ]
  },
  {
   "cell_type": "code",
   "execution_count": 21,
   "id": "a5e91884-0d9a-4098-a9df-071ba10ceeb3",
   "metadata": {},
   "outputs": [],
   "source": [
    "data['Reviews']=data.Reviews.astype('int')"
   ]
  },
  {
   "cell_type": "code",
   "execution_count": 22,
   "id": "b512b18a-c52e-49e4-b86c-4823ab119dec",
   "metadata": {},
   "outputs": [
    {
     "name": "stdout",
     "output_type": "stream",
     "text": [
      "<class 'pandas.core.frame.DataFrame'>\n",
      "RangeIndex: 10829 entries, 0 to 10828\n",
      "Data columns (total 13 columns):\n",
      " #   Column          Non-Null Count  Dtype  \n",
      "---  ------          --------------  -----  \n",
      " 0   App             10829 non-null  object \n",
      " 1   Category        10829 non-null  object \n",
      " 2   Rating          10829 non-null  float64\n",
      " 3   Reviews         10829 non-null  int32  \n",
      " 4   Size            10829 non-null  object \n",
      " 5   Installs        10829 non-null  object \n",
      " 6   Type            10829 non-null  object \n",
      " 7   Price           10829 non-null  object \n",
      " 8   Content Rating  10829 non-null  object \n",
      " 9   Genres          10829 non-null  object \n",
      " 10  Last Updated    10829 non-null  object \n",
      " 11  Current Ver     10829 non-null  object \n",
      " 12  Android Ver     10829 non-null  object \n",
      "dtypes: float64(1), int32(1), object(11)\n",
      "memory usage: 1.0+ MB\n"
     ]
    }
   ],
   "source": [
    "data.info()"
   ]
  },
  {
   "cell_type": "markdown",
   "id": "07ad922c-9968-41f2-a8ac-6e2b665f716b",
   "metadata": {},
   "source": [
    "The data type of Reviews column is changed to int32"
   ]
  },
  {
   "cell_type": "markdown",
   "id": "24572698-5497-464f-9007-c355558fc2d8",
   "metadata": {},
   "source": [
    "##### Changing data type of column Size"
   ]
  },
  {
   "cell_type": "code",
   "execution_count": 23,
   "id": "78147ddd-56ae-463c-a5ee-328e00965a00",
   "metadata": {},
   "outputs": [
    {
     "name": "stdout",
     "output_type": "stream",
     "text": [
      "object\n"
     ]
    }
   ],
   "source": [
    "print(data.Size.dtype)"
   ]
  },
  {
   "cell_type": "markdown",
   "id": "0f11cfac-e7ba-4617-b396-02dd7b93ffa8",
   "metadata": {},
   "source": [
    "Existing data type of size column is object"
   ]
  },
  {
   "cell_type": "code",
   "execution_count": 24,
   "id": "a482e3e8-a0a1-4815-a41a-6743db94b155",
   "metadata": {},
   "outputs": [
    {
     "data": {
      "text/plain": [
       "array(['19M', '14M', '8.7M', '25M', '2.8M', '5.6M', '29M', '33M', '3.1M',\n",
       "       '28M', '12M', '20M', '21M', '37M', '5.5M', '17M', '39M', '31M',\n",
       "       '4.2M', '7.0M', '23M', '6.0M', '6.1M', '4.6M', '9.2M', '5.2M',\n",
       "       '11M', '24M', 'Varies with device', '9.4M', '15M', '10M', '1.2M',\n",
       "       '26M', '8.0M', '7.9M', '56M', '57M', '35M', '54M', '201k', '3.6M',\n",
       "       '5.7M', '8.6M', '2.4M', '27M', '2.7M', '2.5M', '16M', '3.4M',\n",
       "       '8.9M', '3.9M', '2.9M', '38M', '32M', '5.4M', '18M', '1.1M',\n",
       "       '2.2M', '4.5M', '9.8M', '52M', '9.0M', '6.7M', '30M', '2.6M',\n",
       "       '7.1M', '3.7M', '22M', '7.4M', '6.4M', '3.2M', '8.2M', '9.9M',\n",
       "       '4.9M', '9.5M', '5.0M', '5.9M', '13M', '73M', '6.8M', '3.5M',\n",
       "       '4.0M', '2.3M', '7.2M', '2.1M', '42M', '7.3M', '9.1M', '55M',\n",
       "       '23k', '6.5M', '1.5M', '7.5M', '51M', '41M', '48M', '8.5M', '46M',\n",
       "       '8.3M', '4.3M', '4.7M', '3.3M', '40M', '7.8M', '8.8M', '6.6M',\n",
       "       '5.1M', '61M', '66M', '79k', '8.4M', '118k', '44M', '695k', '1.6M',\n",
       "       '6.2M', '18k', '53M', '1.4M', '3.0M', '5.8M', '3.8M', '9.6M',\n",
       "       '45M', '63M', '49M', '77M', '4.4M', '4.8M', '70M', '6.9M', '9.3M',\n",
       "       '10.0M', '8.1M', '36M', '84M', '97M', '2.0M', '1.9M', '1.8M',\n",
       "       '5.3M', '47M', '556k', '526k', '76M', '7.6M', '59M', '9.7M', '78M',\n",
       "       '72M', '43M', '7.7M', '6.3M', '334k', '34M', '93M', '65M', '79M',\n",
       "       '100M', '58M', '50M', '68M', '64M', '67M', '60M', '94M', '232k',\n",
       "       '99M', '624k', '95M', '8.5k', '41k', '292k', '80M', '1.7M', '74M',\n",
       "       '62M', '69M', '75M', '98M', '85M', '82M', '96M', '87M', '71M',\n",
       "       '86M', '91M', '81M', '92M', '83M', '88M', '704k', '862k', '899k',\n",
       "       '378k', '266k', '375k', '1.3M', '975k', '980k', '4.1M', '89M',\n",
       "       '696k', '544k', '525k', '920k', '779k', '853k', '720k', '713k',\n",
       "       '772k', '318k', '58k', '241k', '196k', '857k', '51k', '953k',\n",
       "       '865k', '251k', '930k', '540k', '313k', '746k', '203k', '26k',\n",
       "       '314k', '239k', '371k', '220k', '730k', '756k', '91k', '293k',\n",
       "       '17k', '74k', '14k', '317k', '78k', '924k', '902k', '818k', '81k',\n",
       "       '939k', '169k', '45k', '475k', '965k', '90M', '545k', '61k',\n",
       "       '283k', '655k', '714k', '93k', '872k', '121k', '322k', '1.0M',\n",
       "       '976k', '172k', '238k', '549k', '206k', '954k', '444k', '717k',\n",
       "       '210k', '609k', '308k', '705k', '306k', '904k', '473k', '175k',\n",
       "       '350k', '383k', '454k', '421k', '70k', '812k', '442k', '842k',\n",
       "       '417k', '412k', '459k', '478k', '335k', '782k', '721k', '430k',\n",
       "       '429k', '192k', '200k', '460k', '728k', '496k', '816k', '414k',\n",
       "       '506k', '887k', '613k', '243k', '569k', '778k', '683k', '592k',\n",
       "       '319k', '186k', '840k', '647k', '191k', '373k', '437k', '598k',\n",
       "       '716k', '585k', '982k', '219k', '55k', '948k', '323k', '691k',\n",
       "       '511k', '951k', '963k', '25k', '554k', '351k', '27k', '82k',\n",
       "       '208k', '913k', '514k', '551k', '29k', '103k', '898k', '743k',\n",
       "       '116k', '153k', '209k', '353k', '499k', '173k', '597k', '809k',\n",
       "       '122k', '411k', '400k', '801k', '787k', '50k', '643k', '986k',\n",
       "       '97k', '516k', '837k', '780k', '961k', '269k', '20k', '498k',\n",
       "       '600k', '749k', '642k', '881k', '72k', '656k', '601k', '221k',\n",
       "       '228k', '108k', '940k', '176k', '33k', '663k', '34k', '942k',\n",
       "       '259k', '164k', '458k', '245k', '629k', '28k', '288k', '775k',\n",
       "       '785k', '636k', '916k', '994k', '309k', '485k', '914k', '903k',\n",
       "       '608k', '500k', '54k', '562k', '847k', '957k', '688k', '811k',\n",
       "       '270k', '48k', '329k', '523k', '921k', '874k', '981k', '784k',\n",
       "       '280k', '24k', '518k', '754k', '892k', '154k', '860k', '364k',\n",
       "       '387k', '626k', '161k', '879k', '39k', '970k', '170k', '141k',\n",
       "       '160k', '144k', '143k', '190k', '376k', '193k', '246k', '73k',\n",
       "       '992k', '253k', '420k', '404k', '470k', '226k', '240k', '89k',\n",
       "       '234k', '257k', '861k', '467k', '157k', '44k', '676k', '67k',\n",
       "       '552k', '885k', '1020k', '582k', '619k'], dtype=object)"
      ]
     },
     "execution_count": 24,
     "metadata": {},
     "output_type": "execute_result"
    }
   ],
   "source": [
    "data.Size.unique()"
   ]
  },
  {
   "cell_type": "markdown",
   "id": "7ac8d79c-3f95-43ac-b31e-43d3a566c80d",
   "metadata": {},
   "source": [
    "Checking the number of values in three different categories in Size"
   ]
  },
  {
   "cell_type": "code",
   "execution_count": 25,
   "id": "576bd969-65f6-42bb-92c3-cb129b535026",
   "metadata": {},
   "outputs": [
    {
     "name": "stdout",
     "output_type": "stream",
     "text": [
      "Number of M in size column 8823\n",
      "Number of K in size column 312\n",
      "Number of rows showing Varies with device in size column 1694\n"
     ]
    }
   ],
   "source": [
    "print('Number of M in size column',data.loc[data['Size'].str.contains('M'),'Size'].count())\n",
    "print('Number of K in size column',data.loc[data['Size'].str.contains('k'),'Size'].count())\n",
    "print('Number of rows showing Varies with device in size column',data.loc[data['Size'].str.contains('Varies with device'),'Size'].count())"
   ]
  },
  {
   "cell_type": "code",
   "execution_count": 26,
   "id": "3b1a1ded-fb84-4fea-a202-8dc839990892",
   "metadata": {},
   "outputs": [],
   "source": [
    "# Replacing Varies with device value in size column with null value\n",
    "data['Size'].replace('Varies with device',np.NaN,inplace=True)"
   ]
  },
  {
   "cell_type": "code",
   "execution_count": 27,
   "id": "0c34eaa0-d6d4-4006-9b3e-f1ebd3361fdc",
   "metadata": {},
   "outputs": [],
   "source": [
    "def convert_to_mb(value):\n",
    "    if isinstance(value,str):\n",
    "        if 'k' in value:\n",
    "            return float(value.replace('k',''))/1024      # Kilobytes to megabytes\n",
    "        elif 'M' in value:\n",
    "            return float(value.replace('M',''))\n",
    "        else:\n",
    "            return np.NaN\n",
    "    return value\n",
    "        "
   ]
  },
  {
   "cell_type": "code",
   "execution_count": 28,
   "id": "400846b0-99a5-4d4a-bcf8-1ad76afa3cb3",
   "metadata": {},
   "outputs": [],
   "source": [
    "data['Size']=data['Size'].apply(convert_to_mb)"
   ]
  },
  {
   "cell_type": "code",
   "execution_count": 29,
   "id": "437d57a8-67a2-49f1-ac21-013d21c1d071",
   "metadata": {},
   "outputs": [
    {
     "data": {
      "text/html": [
       "<div>\n",
       "<style scoped>\n",
       "    .dataframe tbody tr th:only-of-type {\n",
       "        vertical-align: middle;\n",
       "    }\n",
       "\n",
       "    .dataframe tbody tr th {\n",
       "        vertical-align: top;\n",
       "    }\n",
       "\n",
       "    .dataframe thead th {\n",
       "        text-align: right;\n",
       "    }\n",
       "</style>\n",
       "<table border=\"1\" class=\"dataframe\">\n",
       "  <thead>\n",
       "    <tr style=\"text-align: right;\">\n",
       "      <th></th>\n",
       "      <th>App</th>\n",
       "      <th>Category</th>\n",
       "      <th>Rating</th>\n",
       "      <th>Reviews</th>\n",
       "      <th>Size</th>\n",
       "      <th>Installs</th>\n",
       "      <th>Type</th>\n",
       "      <th>Price</th>\n",
       "      <th>Content Rating</th>\n",
       "      <th>Genres</th>\n",
       "      <th>Last Updated</th>\n",
       "      <th>Current Ver</th>\n",
       "      <th>Android Ver</th>\n",
       "    </tr>\n",
       "  </thead>\n",
       "  <tbody>\n",
       "    <tr>\n",
       "      <th>0</th>\n",
       "      <td>Photo Editor &amp; Candy Camera &amp; Grid &amp; ScrapBook</td>\n",
       "      <td>ART_AND_DESIGN</td>\n",
       "      <td>4.1</td>\n",
       "      <td>159</td>\n",
       "      <td>19.0</td>\n",
       "      <td>10,000+</td>\n",
       "      <td>Free</td>\n",
       "      <td>0</td>\n",
       "      <td>Everyone</td>\n",
       "      <td>Art &amp; Design</td>\n",
       "      <td>January 7, 2018</td>\n",
       "      <td>1.0.0</td>\n",
       "      <td>4.0.3 and up</td>\n",
       "    </tr>\n",
       "    <tr>\n",
       "      <th>1</th>\n",
       "      <td>Coloring book moana</td>\n",
       "      <td>ART_AND_DESIGN</td>\n",
       "      <td>3.9</td>\n",
       "      <td>967</td>\n",
       "      <td>14.0</td>\n",
       "      <td>500,000+</td>\n",
       "      <td>Free</td>\n",
       "      <td>0</td>\n",
       "      <td>Everyone</td>\n",
       "      <td>Art &amp; Design;Pretend Play</td>\n",
       "      <td>January 15, 2018</td>\n",
       "      <td>2.0.0</td>\n",
       "      <td>4.0.3 and up</td>\n",
       "    </tr>\n",
       "    <tr>\n",
       "      <th>2</th>\n",
       "      <td>U Launcher Lite – FREE Live Cool Themes, Hide ...</td>\n",
       "      <td>ART_AND_DESIGN</td>\n",
       "      <td>4.7</td>\n",
       "      <td>87510</td>\n",
       "      <td>8.7</td>\n",
       "      <td>5,000,000+</td>\n",
       "      <td>Free</td>\n",
       "      <td>0</td>\n",
       "      <td>Everyone</td>\n",
       "      <td>Art &amp; Design</td>\n",
       "      <td>August 1, 2018</td>\n",
       "      <td>1.2.4</td>\n",
       "      <td>4.0.3 and up</td>\n",
       "    </tr>\n",
       "    <tr>\n",
       "      <th>3</th>\n",
       "      <td>Sketch - Draw &amp; Paint</td>\n",
       "      <td>ART_AND_DESIGN</td>\n",
       "      <td>4.5</td>\n",
       "      <td>215644</td>\n",
       "      <td>25.0</td>\n",
       "      <td>50,000,000+</td>\n",
       "      <td>Free</td>\n",
       "      <td>0</td>\n",
       "      <td>Teen</td>\n",
       "      <td>Art &amp; Design</td>\n",
       "      <td>June 8, 2018</td>\n",
       "      <td>Varies with device</td>\n",
       "      <td>4.2 and up</td>\n",
       "    </tr>\n",
       "    <tr>\n",
       "      <th>4</th>\n",
       "      <td>Pixel Draw - Number Art Coloring Book</td>\n",
       "      <td>ART_AND_DESIGN</td>\n",
       "      <td>4.3</td>\n",
       "      <td>967</td>\n",
       "      <td>2.8</td>\n",
       "      <td>100,000+</td>\n",
       "      <td>Free</td>\n",
       "      <td>0</td>\n",
       "      <td>Everyone</td>\n",
       "      <td>Art &amp; Design;Creativity</td>\n",
       "      <td>June 20, 2018</td>\n",
       "      <td>1.1</td>\n",
       "      <td>4.4 and up</td>\n",
       "    </tr>\n",
       "  </tbody>\n",
       "</table>\n",
       "</div>"
      ],
      "text/plain": [
       "                                                 App        Category  Rating  \\\n",
       "0     Photo Editor & Candy Camera & Grid & ScrapBook  ART_AND_DESIGN     4.1   \n",
       "1                                Coloring book moana  ART_AND_DESIGN     3.9   \n",
       "2  U Launcher Lite – FREE Live Cool Themes, Hide ...  ART_AND_DESIGN     4.7   \n",
       "3                              Sketch - Draw & Paint  ART_AND_DESIGN     4.5   \n",
       "4              Pixel Draw - Number Art Coloring Book  ART_AND_DESIGN     4.3   \n",
       "\n",
       "   Reviews  Size     Installs  Type Price Content Rating  \\\n",
       "0      159  19.0      10,000+  Free     0       Everyone   \n",
       "1      967  14.0     500,000+  Free     0       Everyone   \n",
       "2    87510   8.7   5,000,000+  Free     0       Everyone   \n",
       "3   215644  25.0  50,000,000+  Free     0           Teen   \n",
       "4      967   2.8     100,000+  Free     0       Everyone   \n",
       "\n",
       "                      Genres      Last Updated         Current Ver  \\\n",
       "0               Art & Design   January 7, 2018               1.0.0   \n",
       "1  Art & Design;Pretend Play  January 15, 2018               2.0.0   \n",
       "2               Art & Design    August 1, 2018               1.2.4   \n",
       "3               Art & Design      June 8, 2018  Varies with device   \n",
       "4    Art & Design;Creativity     June 20, 2018                 1.1   \n",
       "\n",
       "    Android Ver  \n",
       "0  4.0.3 and up  \n",
       "1  4.0.3 and up  \n",
       "2  4.0.3 and up  \n",
       "3    4.2 and up  \n",
       "4    4.4 and up  "
      ]
     },
     "execution_count": 29,
     "metadata": {},
     "output_type": "execute_result"
    }
   ],
   "source": [
    "data.head()"
   ]
  },
  {
   "cell_type": "code",
   "execution_count": 30,
   "id": "0b39efc4-b5d4-4a6f-a946-2f67fb4ecc01",
   "metadata": {},
   "outputs": [
    {
     "name": "stdout",
     "output_type": "stream",
     "text": [
      "<class 'pandas.core.frame.DataFrame'>\n",
      "RangeIndex: 10829 entries, 0 to 10828\n",
      "Data columns (total 13 columns):\n",
      " #   Column          Non-Null Count  Dtype  \n",
      "---  ------          --------------  -----  \n",
      " 0   App             10829 non-null  object \n",
      " 1   Category        10829 non-null  object \n",
      " 2   Rating          10829 non-null  float64\n",
      " 3   Reviews         10829 non-null  int32  \n",
      " 4   Size            9135 non-null   float64\n",
      " 5   Installs        10829 non-null  object \n",
      " 6   Type            10829 non-null  object \n",
      " 7   Price           10829 non-null  object \n",
      " 8   Content Rating  10829 non-null  object \n",
      " 9   Genres          10829 non-null  object \n",
      " 10  Last Updated    10829 non-null  object \n",
      " 11  Current Ver     10829 non-null  object \n",
      " 12  Android Ver     10829 non-null  object \n",
      "dtypes: float64(2), int32(1), object(10)\n",
      "memory usage: 1.0+ MB\n"
     ]
    }
   ],
   "source": [
    "data.info()"
   ]
  },
  {
   "cell_type": "markdown",
   "id": "b49aaad0-5ab1-4125-888b-43933fb93799",
   "metadata": {},
   "source": [
    "All the sizes are converted to unit Megabytes and then\n",
    "data Type of size column is changed to float64"
   ]
  },
  {
   "cell_type": "markdown",
   "id": "2d1e8bcf-1b1f-4daf-821c-276e73d2bd0a",
   "metadata": {},
   "source": [
    "##### Changing data type of column installs"
   ]
  },
  {
   "cell_type": "code",
   "execution_count": 31,
   "id": "63ae4d53-8eeb-45a3-924f-ba1dbcdb3644",
   "metadata": {},
   "outputs": [
    {
     "data": {
      "text/plain": [
       "array(['10,000+', '500,000+', '5,000,000+', '50,000,000+', '100,000+',\n",
       "       '50,000+', '1,000,000+', '10,000,000+', '5,000+', '100,000,000+',\n",
       "       '1,000,000,000+', '1,000+', '500,000,000+', '50+', '100+', '500+',\n",
       "       '10+', '1+', '5+', '0+'], dtype=object)"
      ]
     },
     "execution_count": 31,
     "metadata": {},
     "output_type": "execute_result"
    }
   ],
   "source": [
    "data.Installs.unique()"
   ]
  },
  {
   "cell_type": "code",
   "execution_count": 32,
   "id": "6a44b203-f79c-4fa4-b157-5c49a507b5af",
   "metadata": {},
   "outputs": [],
   "source": [
    "def clean_installs(value):\n",
    "    if isinstance(value,str):\n",
    "            value=value.replace('+','').replace(',','')\n",
    "            if value.isdigit():\n",
    "                return int(value)\n",
    "            else:\n",
    "                return np.NaN\n",
    "    return value"
   ]
  },
  {
   "cell_type": "code",
   "execution_count": 33,
   "id": "eb8e536c-96a8-4c6d-8693-3f0bc567e891",
   "metadata": {},
   "outputs": [],
   "source": [
    "data['Installs']=data.Installs.apply(clean_installs)"
   ]
  },
  {
   "cell_type": "code",
   "execution_count": 34,
   "id": "7fa8171f-3f73-43bb-aadf-261f01f3c7c7",
   "metadata": {},
   "outputs": [
    {
     "data": {
      "text/plain": [
       "Installs\n",
       "1000000       1578\n",
       "10000000      1252\n",
       "100000        1169\n",
       "10000         1052\n",
       "1000           905\n",
       "5000000        752\n",
       "100            718\n",
       "500000         538\n",
       "50000          478\n",
       "5000           476\n",
       "100000000      409\n",
       "10             385\n",
       "500            330\n",
       "50000000       289\n",
       "50             205\n",
       "5               82\n",
       "500000000       72\n",
       "1               67\n",
       "1000000000      58\n",
       "0               14\n",
       "Name: count, dtype: int64"
      ]
     },
     "execution_count": 34,
     "metadata": {},
     "output_type": "execute_result"
    }
   ],
   "source": [
    "data['Installs'].value_counts()"
   ]
  },
  {
   "cell_type": "code",
   "execution_count": 35,
   "id": "c5ede846-4237-479d-8edd-721f5b155669",
   "metadata": {},
   "outputs": [
    {
     "name": "stdout",
     "output_type": "stream",
     "text": [
      "<class 'pandas.core.frame.DataFrame'>\n",
      "RangeIndex: 10829 entries, 0 to 10828\n",
      "Data columns (total 13 columns):\n",
      " #   Column          Non-Null Count  Dtype  \n",
      "---  ------          --------------  -----  \n",
      " 0   App             10829 non-null  object \n",
      " 1   Category        10829 non-null  object \n",
      " 2   Rating          10829 non-null  float64\n",
      " 3   Reviews         10829 non-null  int32  \n",
      " 4   Size            9135 non-null   float64\n",
      " 5   Installs        10829 non-null  int64  \n",
      " 6   Type            10829 non-null  object \n",
      " 7   Price           10829 non-null  object \n",
      " 8   Content Rating  10829 non-null  object \n",
      " 9   Genres          10829 non-null  object \n",
      " 10  Last Updated    10829 non-null  object \n",
      " 11  Current Ver     10829 non-null  object \n",
      " 12  Android Ver     10829 non-null  object \n",
      "dtypes: float64(2), int32(1), int64(1), object(9)\n",
      "memory usage: 1.0+ MB\n"
     ]
    }
   ],
   "source": [
    "data.info()"
   ]
  },
  {
   "cell_type": "markdown",
   "id": "cdfe534c-0a25-4076-b03c-0238dffe9cb0",
   "metadata": {},
   "source": [
    "Data type of column installs is changed to int64"
   ]
  },
  {
   "cell_type": "markdown",
   "id": "704cb8fc-4b6d-43aa-bbc5-3afcfd4a9093",
   "metadata": {},
   "source": [
    "##### Making a new column called installs_category"
   ]
  },
  {
   "cell_type": "code",
   "execution_count": 36,
   "id": "ed6ccbdb-7ef1-4389-8108-9dbcaae24cda",
   "metadata": {},
   "outputs": [],
   "source": [
    "bins=[-1,0,10, 1000, 10000, 100000, 1000000, 10000000, 10000000000]\n",
    "labels=['no', 'Very low', 'Low', 'Moderate', 'More than moderate', 'High', 'Very High', 'Top Notch']\n",
    "data['Installs_Category']=pd.cut(data['Installs'],bins=bins,labels=labels)"
   ]
  },
  {
   "cell_type": "code",
   "execution_count": 37,
   "id": "ba46731c-09fe-4f83-9931-a45efd0658fe",
   "metadata": {},
   "outputs": [
    {
     "data": {
      "text/plain": [
       "Installs_Category\n",
       "Low                   2158\n",
       "High                  2116\n",
       "Very High             2004\n",
       "More than moderate    1647\n",
       "Moderate              1528\n",
       "Top Notch              828\n",
       "Very low               534\n",
       "no                      14\n",
       "Name: count, dtype: int64"
      ]
     },
     "execution_count": 37,
     "metadata": {},
     "output_type": "execute_result"
    }
   ],
   "source": [
    "data['Installs_Category'].value_counts()"
   ]
  },
  {
   "cell_type": "code",
   "execution_count": 38,
   "id": "eebd56ba-5d00-452d-aa2d-16de23d6374b",
   "metadata": {},
   "outputs": [
    {
     "data": {
      "text/html": [
       "<div>\n",
       "<style scoped>\n",
       "    .dataframe tbody tr th:only-of-type {\n",
       "        vertical-align: middle;\n",
       "    }\n",
       "\n",
       "    .dataframe tbody tr th {\n",
       "        vertical-align: top;\n",
       "    }\n",
       "\n",
       "    .dataframe thead th {\n",
       "        text-align: right;\n",
       "    }\n",
       "</style>\n",
       "<table border=\"1\" class=\"dataframe\">\n",
       "  <thead>\n",
       "    <tr style=\"text-align: right;\">\n",
       "      <th></th>\n",
       "      <th>App</th>\n",
       "      <th>Category</th>\n",
       "      <th>Rating</th>\n",
       "      <th>Reviews</th>\n",
       "      <th>Size</th>\n",
       "      <th>Installs</th>\n",
       "      <th>Type</th>\n",
       "      <th>Price</th>\n",
       "      <th>Content Rating</th>\n",
       "      <th>Genres</th>\n",
       "      <th>Last Updated</th>\n",
       "      <th>Current Ver</th>\n",
       "      <th>Android Ver</th>\n",
       "      <th>Installs_Category</th>\n",
       "    </tr>\n",
       "  </thead>\n",
       "  <tbody>\n",
       "    <tr>\n",
       "      <th>0</th>\n",
       "      <td>Photo Editor &amp; Candy Camera &amp; Grid &amp; ScrapBook</td>\n",
       "      <td>ART_AND_DESIGN</td>\n",
       "      <td>4.1</td>\n",
       "      <td>159</td>\n",
       "      <td>19.0</td>\n",
       "      <td>10000</td>\n",
       "      <td>Free</td>\n",
       "      <td>0</td>\n",
       "      <td>Everyone</td>\n",
       "      <td>Art &amp; Design</td>\n",
       "      <td>January 7, 2018</td>\n",
       "      <td>1.0.0</td>\n",
       "      <td>4.0.3 and up</td>\n",
       "      <td>Moderate</td>\n",
       "    </tr>\n",
       "    <tr>\n",
       "      <th>1</th>\n",
       "      <td>Coloring book moana</td>\n",
       "      <td>ART_AND_DESIGN</td>\n",
       "      <td>3.9</td>\n",
       "      <td>967</td>\n",
       "      <td>14.0</td>\n",
       "      <td>500000</td>\n",
       "      <td>Free</td>\n",
       "      <td>0</td>\n",
       "      <td>Everyone</td>\n",
       "      <td>Art &amp; Design;Pretend Play</td>\n",
       "      <td>January 15, 2018</td>\n",
       "      <td>2.0.0</td>\n",
       "      <td>4.0.3 and up</td>\n",
       "      <td>High</td>\n",
       "    </tr>\n",
       "    <tr>\n",
       "      <th>2</th>\n",
       "      <td>U Launcher Lite – FREE Live Cool Themes, Hide ...</td>\n",
       "      <td>ART_AND_DESIGN</td>\n",
       "      <td>4.7</td>\n",
       "      <td>87510</td>\n",
       "      <td>8.7</td>\n",
       "      <td>5000000</td>\n",
       "      <td>Free</td>\n",
       "      <td>0</td>\n",
       "      <td>Everyone</td>\n",
       "      <td>Art &amp; Design</td>\n",
       "      <td>August 1, 2018</td>\n",
       "      <td>1.2.4</td>\n",
       "      <td>4.0.3 and up</td>\n",
       "      <td>Very High</td>\n",
       "    </tr>\n",
       "    <tr>\n",
       "      <th>3</th>\n",
       "      <td>Sketch - Draw &amp; Paint</td>\n",
       "      <td>ART_AND_DESIGN</td>\n",
       "      <td>4.5</td>\n",
       "      <td>215644</td>\n",
       "      <td>25.0</td>\n",
       "      <td>50000000</td>\n",
       "      <td>Free</td>\n",
       "      <td>0</td>\n",
       "      <td>Teen</td>\n",
       "      <td>Art &amp; Design</td>\n",
       "      <td>June 8, 2018</td>\n",
       "      <td>Varies with device</td>\n",
       "      <td>4.2 and up</td>\n",
       "      <td>Top Notch</td>\n",
       "    </tr>\n",
       "    <tr>\n",
       "      <th>4</th>\n",
       "      <td>Pixel Draw - Number Art Coloring Book</td>\n",
       "      <td>ART_AND_DESIGN</td>\n",
       "      <td>4.3</td>\n",
       "      <td>967</td>\n",
       "      <td>2.8</td>\n",
       "      <td>100000</td>\n",
       "      <td>Free</td>\n",
       "      <td>0</td>\n",
       "      <td>Everyone</td>\n",
       "      <td>Art &amp; Design;Creativity</td>\n",
       "      <td>June 20, 2018</td>\n",
       "      <td>1.1</td>\n",
       "      <td>4.4 and up</td>\n",
       "      <td>More than moderate</td>\n",
       "    </tr>\n",
       "  </tbody>\n",
       "</table>\n",
       "</div>"
      ],
      "text/plain": [
       "                                                 App        Category  Rating  \\\n",
       "0     Photo Editor & Candy Camera & Grid & ScrapBook  ART_AND_DESIGN     4.1   \n",
       "1                                Coloring book moana  ART_AND_DESIGN     3.9   \n",
       "2  U Launcher Lite – FREE Live Cool Themes, Hide ...  ART_AND_DESIGN     4.7   \n",
       "3                              Sketch - Draw & Paint  ART_AND_DESIGN     4.5   \n",
       "4              Pixel Draw - Number Art Coloring Book  ART_AND_DESIGN     4.3   \n",
       "\n",
       "   Reviews  Size  Installs  Type Price Content Rating  \\\n",
       "0      159  19.0     10000  Free     0       Everyone   \n",
       "1      967  14.0    500000  Free     0       Everyone   \n",
       "2    87510   8.7   5000000  Free     0       Everyone   \n",
       "3   215644  25.0  50000000  Free     0           Teen   \n",
       "4      967   2.8    100000  Free     0       Everyone   \n",
       "\n",
       "                      Genres      Last Updated         Current Ver  \\\n",
       "0               Art & Design   January 7, 2018               1.0.0   \n",
       "1  Art & Design;Pretend Play  January 15, 2018               2.0.0   \n",
       "2               Art & Design    August 1, 2018               1.2.4   \n",
       "3               Art & Design      June 8, 2018  Varies with device   \n",
       "4    Art & Design;Creativity     June 20, 2018                 1.1   \n",
       "\n",
       "    Android Ver   Installs_Category  \n",
       "0  4.0.3 and up            Moderate  \n",
       "1  4.0.3 and up                High  \n",
       "2  4.0.3 and up           Very High  \n",
       "3    4.2 and up           Top Notch  \n",
       "4    4.4 and up  More than moderate  "
      ]
     },
     "execution_count": 38,
     "metadata": {},
     "output_type": "execute_result"
    }
   ],
   "source": [
    "data.head()"
   ]
  },
  {
   "cell_type": "code",
   "execution_count": 39,
   "id": "7f1593e3-eb11-4740-9c20-108d4c6c0b74",
   "metadata": {},
   "outputs": [
    {
     "name": "stdout",
     "output_type": "stream",
     "text": [
      "<class 'pandas.core.frame.DataFrame'>\n",
      "RangeIndex: 10829 entries, 0 to 10828\n",
      "Data columns (total 14 columns):\n",
      " #   Column             Non-Null Count  Dtype   \n",
      "---  ------             --------------  -----   \n",
      " 0   App                10829 non-null  object  \n",
      " 1   Category           10829 non-null  object  \n",
      " 2   Rating             10829 non-null  float64 \n",
      " 3   Reviews            10829 non-null  int32   \n",
      " 4   Size               9135 non-null   float64 \n",
      " 5   Installs           10829 non-null  int64   \n",
      " 6   Type               10829 non-null  object  \n",
      " 7   Price              10829 non-null  object  \n",
      " 8   Content Rating     10829 non-null  object  \n",
      " 9   Genres             10829 non-null  object  \n",
      " 10  Last Updated       10829 non-null  object  \n",
      " 11  Current Ver        10829 non-null  object  \n",
      " 12  Android Ver        10829 non-null  object  \n",
      " 13  Installs_Category  10829 non-null  category\n",
      "dtypes: category(1), float64(2), int32(1), int64(1), object(9)\n",
      "memory usage: 1.0+ MB\n"
     ]
    }
   ],
   "source": [
    "data.info()"
   ]
  },
  {
   "cell_type": "markdown",
   "id": "3717a6fb-5dc5-4d6b-bd38-91dcde252a3f",
   "metadata": {},
   "source": [
    "##### Changing the data type of Price column"
   ]
  },
  {
   "cell_type": "code",
   "execution_count": 40,
   "id": "67f7c733-fd65-496a-9ed7-41d4d1985070",
   "metadata": {},
   "outputs": [
    {
     "data": {
      "text/plain": [
       "array(['0', '$4.99', '$3.99', '$6.99', '$1.49', '$2.99', '$7.99', '$5.99',\n",
       "       '$3.49', '$1.99', '$9.99', '$7.49', '$0.99', '$9.00', '$5.49',\n",
       "       '$10.00', '$24.99', '$11.99', '$79.99', '$16.99', '$14.99',\n",
       "       '$1.00', '$29.99', '$12.99', '$2.49', '$10.99', '$1.50', '$19.99',\n",
       "       '$15.99', '$33.99', '$74.99', '$39.99', '$3.95', '$4.49', '$1.70',\n",
       "       '$8.99', '$2.00', '$3.88', '$25.99', '$399.99', '$17.99',\n",
       "       '$400.00', '$3.02', '$1.76', '$4.84', '$4.77', '$1.61', '$2.50',\n",
       "       '$1.59', '$6.49', '$1.29', '$5.00', '$13.99', '$299.99', '$379.99',\n",
       "       '$37.99', '$18.99', '$389.99', '$19.90', '$8.49', '$1.75',\n",
       "       '$14.00', '$4.85', '$46.99', '$109.99', '$154.99', '$3.08',\n",
       "       '$2.59', '$4.80', '$1.96', '$19.40', '$3.90', '$4.59', '$15.46',\n",
       "       '$3.04', '$4.29', '$2.60', '$3.28', '$4.60', '$28.99', '$2.95',\n",
       "       '$2.90', '$1.97', '$200.00', '$89.99', '$2.56', '$30.99', '$3.61',\n",
       "       '$394.99', '$1.26', '$1.20', '$1.04'], dtype=object)"
      ]
     },
     "execution_count": 40,
     "metadata": {},
     "output_type": "execute_result"
    }
   ],
   "source": [
    "data.Price.unique()"
   ]
  },
  {
   "cell_type": "code",
   "execution_count": 41,
   "id": "13f9c5c8-b756-4094-9f0e-fb763fea8431",
   "metadata": {},
   "outputs": [],
   "source": [
    "def adjust_price(value):\n",
    "    if isinstance(value,str):\n",
    "        return float(value.replace('$',''))\n",
    "    return value"
   ]
  },
  {
   "cell_type": "code",
   "execution_count": 42,
   "id": "63a11300-419a-4c10-a639-abac2d95a544",
   "metadata": {},
   "outputs": [
    {
     "data": {
      "text/html": [
       "<div>\n",
       "<style scoped>\n",
       "    .dataframe tbody tr th:only-of-type {\n",
       "        vertical-align: middle;\n",
       "    }\n",
       "\n",
       "    .dataframe tbody tr th {\n",
       "        vertical-align: top;\n",
       "    }\n",
       "\n",
       "    .dataframe thead th {\n",
       "        text-align: right;\n",
       "    }\n",
       "</style>\n",
       "<table border=\"1\" class=\"dataframe\">\n",
       "  <thead>\n",
       "    <tr style=\"text-align: right;\">\n",
       "      <th></th>\n",
       "      <th>App</th>\n",
       "      <th>Category</th>\n",
       "      <th>Rating</th>\n",
       "      <th>Reviews</th>\n",
       "      <th>Size</th>\n",
       "      <th>Installs</th>\n",
       "      <th>Type</th>\n",
       "      <th>Price</th>\n",
       "      <th>Content Rating</th>\n",
       "      <th>Genres</th>\n",
       "      <th>Last Updated</th>\n",
       "      <th>Current Ver</th>\n",
       "      <th>Android Ver</th>\n",
       "      <th>Installs_Category</th>\n",
       "    </tr>\n",
       "  </thead>\n",
       "  <tbody>\n",
       "    <tr>\n",
       "      <th>10824</th>\n",
       "      <td>Sya9a Maroc - FR</td>\n",
       "      <td>FAMILY</td>\n",
       "      <td>4.500000</td>\n",
       "      <td>38</td>\n",
       "      <td>53.0</td>\n",
       "      <td>5000</td>\n",
       "      <td>Free</td>\n",
       "      <td>0.0</td>\n",
       "      <td>Everyone</td>\n",
       "      <td>Education</td>\n",
       "      <td>July 25, 2017</td>\n",
       "      <td>1.48</td>\n",
       "      <td>4.1 and up</td>\n",
       "      <td>Moderate</td>\n",
       "    </tr>\n",
       "    <tr>\n",
       "      <th>10825</th>\n",
       "      <td>Fr. Mike Schmitz Audio Teachings</td>\n",
       "      <td>FAMILY</td>\n",
       "      <td>5.000000</td>\n",
       "      <td>4</td>\n",
       "      <td>3.6</td>\n",
       "      <td>100</td>\n",
       "      <td>Free</td>\n",
       "      <td>0.0</td>\n",
       "      <td>Everyone</td>\n",
       "      <td>Education</td>\n",
       "      <td>July 6, 2018</td>\n",
       "      <td>1.0</td>\n",
       "      <td>4.1 and up</td>\n",
       "      <td>Low</td>\n",
       "    </tr>\n",
       "    <tr>\n",
       "      <th>10826</th>\n",
       "      <td>Parkinson Exercices FR</td>\n",
       "      <td>MEDICAL</td>\n",
       "      <td>4.193338</td>\n",
       "      <td>3</td>\n",
       "      <td>9.5</td>\n",
       "      <td>1000</td>\n",
       "      <td>Free</td>\n",
       "      <td>0.0</td>\n",
       "      <td>Everyone</td>\n",
       "      <td>Medical</td>\n",
       "      <td>January 20, 2017</td>\n",
       "      <td>1.0</td>\n",
       "      <td>2.2 and up</td>\n",
       "      <td>Low</td>\n",
       "    </tr>\n",
       "    <tr>\n",
       "      <th>10827</th>\n",
       "      <td>The SCP Foundation DB fr nn5n</td>\n",
       "      <td>BOOKS_AND_REFERENCE</td>\n",
       "      <td>4.500000</td>\n",
       "      <td>114</td>\n",
       "      <td>NaN</td>\n",
       "      <td>1000</td>\n",
       "      <td>Free</td>\n",
       "      <td>0.0</td>\n",
       "      <td>Mature 17+</td>\n",
       "      <td>Books &amp; Reference</td>\n",
       "      <td>January 19, 2015</td>\n",
       "      <td>Varies with device</td>\n",
       "      <td>Varies with device</td>\n",
       "      <td>Low</td>\n",
       "    </tr>\n",
       "    <tr>\n",
       "      <th>10828</th>\n",
       "      <td>iHoroscope - 2018 Daily Horoscope &amp; Astrology</td>\n",
       "      <td>LIFESTYLE</td>\n",
       "      <td>4.500000</td>\n",
       "      <td>398307</td>\n",
       "      <td>19.0</td>\n",
       "      <td>10000000</td>\n",
       "      <td>Free</td>\n",
       "      <td>0.0</td>\n",
       "      <td>Everyone</td>\n",
       "      <td>Lifestyle</td>\n",
       "      <td>July 25, 2018</td>\n",
       "      <td>Varies with device</td>\n",
       "      <td>Varies with device</td>\n",
       "      <td>Very High</td>\n",
       "    </tr>\n",
       "  </tbody>\n",
       "</table>\n",
       "</div>"
      ],
      "text/plain": [
       "                                                 App             Category  \\\n",
       "10824                               Sya9a Maroc - FR               FAMILY   \n",
       "10825               Fr. Mike Schmitz Audio Teachings               FAMILY   \n",
       "10826                         Parkinson Exercices FR              MEDICAL   \n",
       "10827                  The SCP Foundation DB fr nn5n  BOOKS_AND_REFERENCE   \n",
       "10828  iHoroscope - 2018 Daily Horoscope & Astrology            LIFESTYLE   \n",
       "\n",
       "         Rating  Reviews  Size  Installs  Type  Price Content Rating  \\\n",
       "10824  4.500000       38  53.0      5000  Free    0.0       Everyone   \n",
       "10825  5.000000        4   3.6       100  Free    0.0       Everyone   \n",
       "10826  4.193338        3   9.5      1000  Free    0.0       Everyone   \n",
       "10827  4.500000      114   NaN      1000  Free    0.0     Mature 17+   \n",
       "10828  4.500000   398307  19.0  10000000  Free    0.0       Everyone   \n",
       "\n",
       "                  Genres      Last Updated         Current Ver  \\\n",
       "10824          Education     July 25, 2017                1.48   \n",
       "10825          Education      July 6, 2018                 1.0   \n",
       "10826            Medical  January 20, 2017                 1.0   \n",
       "10827  Books & Reference  January 19, 2015  Varies with device   \n",
       "10828          Lifestyle     July 25, 2018  Varies with device   \n",
       "\n",
       "              Android Ver Installs_Category  \n",
       "10824          4.1 and up          Moderate  \n",
       "10825          4.1 and up               Low  \n",
       "10826          2.2 and up               Low  \n",
       "10827  Varies with device               Low  \n",
       "10828  Varies with device         Very High  "
      ]
     },
     "execution_count": 42,
     "metadata": {},
     "output_type": "execute_result"
    }
   ],
   "source": [
    "data['Price']=data.Price.apply(adjust_price)\n",
    "data.tail()"
   ]
  },
  {
   "cell_type": "code",
   "execution_count": 43,
   "id": "3577d380-1d2b-43d9-8075-98f9ac12d523",
   "metadata": {},
   "outputs": [
    {
     "name": "stdout",
     "output_type": "stream",
     "text": [
      "<class 'pandas.core.frame.DataFrame'>\n",
      "RangeIndex: 10829 entries, 0 to 10828\n",
      "Data columns (total 14 columns):\n",
      " #   Column             Non-Null Count  Dtype   \n",
      "---  ------             --------------  -----   \n",
      " 0   App                10829 non-null  object  \n",
      " 1   Category           10829 non-null  object  \n",
      " 2   Rating             10829 non-null  float64 \n",
      " 3   Reviews            10829 non-null  int32   \n",
      " 4   Size               9135 non-null   float64 \n",
      " 5   Installs           10829 non-null  int64   \n",
      " 6   Type               10829 non-null  object  \n",
      " 7   Price              10829 non-null  float64 \n",
      " 8   Content Rating     10829 non-null  object  \n",
      " 9   Genres             10829 non-null  object  \n",
      " 10  Last Updated       10829 non-null  object  \n",
      " 11  Current Ver        10829 non-null  object  \n",
      " 12  Android Ver        10829 non-null  object  \n",
      " 13  Installs_Category  10829 non-null  category\n",
      "dtypes: category(1), float64(3), int32(1), int64(1), object(8)\n",
      "memory usage: 1.0+ MB\n"
     ]
    }
   ],
   "source": [
    "data.info()"
   ]
  },
  {
   "cell_type": "markdown",
   "id": "ee8811db-7e50-46a7-af7b-2150f2271baa",
   "metadata": {},
   "source": [
    "Data type of price column is changed to float64"
   ]
  },
  {
   "cell_type": "markdown",
   "id": "820a1d4a-0d21-43cb-a026-6a4c701ae2de",
   "metadata": {},
   "source": [
    "#### Statistics of numerical columns"
   ]
  },
  {
   "cell_type": "code",
   "execution_count": 44,
   "id": "79c70dfe-3bac-4e4e-99fc-7c63630667f3",
   "metadata": {},
   "outputs": [
    {
     "data": {
      "text/html": [
       "<div>\n",
       "<style scoped>\n",
       "    .dataframe tbody tr th:only-of-type {\n",
       "        vertical-align: middle;\n",
       "    }\n",
       "\n",
       "    .dataframe tbody tr th {\n",
       "        vertical-align: top;\n",
       "    }\n",
       "\n",
       "    .dataframe thead th {\n",
       "        text-align: right;\n",
       "    }\n",
       "</style>\n",
       "<table border=\"1\" class=\"dataframe\">\n",
       "  <thead>\n",
       "    <tr style=\"text-align: right;\">\n",
       "      <th></th>\n",
       "      <th>Rating</th>\n",
       "      <th>Reviews</th>\n",
       "      <th>Size</th>\n",
       "      <th>Installs</th>\n",
       "      <th>Price</th>\n",
       "    </tr>\n",
       "  </thead>\n",
       "  <tbody>\n",
       "    <tr>\n",
       "      <th>count</th>\n",
       "      <td>10829.000000</td>\n",
       "      <td>1.082900e+04</td>\n",
       "      <td>9135.000000</td>\n",
       "      <td>1.082900e+04</td>\n",
       "      <td>10829.000000</td>\n",
       "    </tr>\n",
       "    <tr>\n",
       "      <th>mean</th>\n",
       "      <td>4.192041</td>\n",
       "      <td>4.446018e+05</td>\n",
       "      <td>21.534596</td>\n",
       "      <td>1.547990e+07</td>\n",
       "      <td>1.028091</td>\n",
       "    </tr>\n",
       "    <tr>\n",
       "      <th>std</th>\n",
       "      <td>0.479038</td>\n",
       "      <td>2.929213e+06</td>\n",
       "      <td>22.593997</td>\n",
       "      <td>8.507114e+07</td>\n",
       "      <td>15.957778</td>\n",
       "    </tr>\n",
       "    <tr>\n",
       "      <th>min</th>\n",
       "      <td>1.000000</td>\n",
       "      <td>0.000000e+00</td>\n",
       "      <td>0.008301</td>\n",
       "      <td>0.000000e+00</td>\n",
       "      <td>0.000000</td>\n",
       "    </tr>\n",
       "    <tr>\n",
       "      <th>25%</th>\n",
       "      <td>4.100000</td>\n",
       "      <td>3.800000e+01</td>\n",
       "      <td>4.900000</td>\n",
       "      <td>5.000000e+03</td>\n",
       "      <td>0.000000</td>\n",
       "    </tr>\n",
       "    <tr>\n",
       "      <th>50%</th>\n",
       "      <td>4.200000</td>\n",
       "      <td>2.100000e+03</td>\n",
       "      <td>13.000000</td>\n",
       "      <td>1.000000e+05</td>\n",
       "      <td>0.000000</td>\n",
       "    </tr>\n",
       "    <tr>\n",
       "      <th>75%</th>\n",
       "      <td>4.500000</td>\n",
       "      <td>5.481500e+04</td>\n",
       "      <td>30.000000</td>\n",
       "      <td>5.000000e+06</td>\n",
       "      <td>0.000000</td>\n",
       "    </tr>\n",
       "    <tr>\n",
       "      <th>max</th>\n",
       "      <td>5.000000</td>\n",
       "      <td>7.815831e+07</td>\n",
       "      <td>100.000000</td>\n",
       "      <td>1.000000e+09</td>\n",
       "      <td>400.000000</td>\n",
       "    </tr>\n",
       "  </tbody>\n",
       "</table>\n",
       "</div>"
      ],
      "text/plain": [
       "             Rating       Reviews         Size      Installs         Price\n",
       "count  10829.000000  1.082900e+04  9135.000000  1.082900e+04  10829.000000\n",
       "mean       4.192041  4.446018e+05    21.534596  1.547990e+07      1.028091\n",
       "std        0.479038  2.929213e+06    22.593997  8.507114e+07     15.957778\n",
       "min        1.000000  0.000000e+00     0.008301  0.000000e+00      0.000000\n",
       "25%        4.100000  3.800000e+01     4.900000  5.000000e+03      0.000000\n",
       "50%        4.200000  2.100000e+03    13.000000  1.000000e+05      0.000000\n",
       "75%        4.500000  5.481500e+04    30.000000  5.000000e+06      0.000000\n",
       "max        5.000000  7.815831e+07   100.000000  1.000000e+09    400.000000"
      ]
     },
     "execution_count": 44,
     "metadata": {},
     "output_type": "execute_result"
    }
   ],
   "source": [
    "data.describe()"
   ]
  },
  {
   "cell_type": "markdown",
   "id": "3748e6fb-ef79-4e5e-9820-dddb18ad2978",
   "metadata": {},
   "source": [
    "#### Transforming column Content Rating by simplifying the categories"
   ]
  },
  {
   "cell_type": "code",
   "execution_count": 45,
   "id": "7216477f-e221-42a4-8f3e-20db9e47d9ef",
   "metadata": {},
   "outputs": [
    {
     "data": {
      "text/plain": [
       "Content Rating\n",
       "Everyone           8704\n",
       "Teen               1208\n",
       "Mature 17+          499\n",
       "Everyone 10+        413\n",
       "Adults only 18+       3\n",
       "Unrated               2\n",
       "Name: count, dtype: int64"
      ]
     },
     "execution_count": 45,
     "metadata": {},
     "output_type": "execute_result"
    }
   ],
   "source": [
    "data['Content Rating'].value_counts()"
   ]
  },
  {
   "cell_type": "code",
   "execution_count": 46,
   "id": "df664ad8-ea19-44a7-b014-cf6b0fb23fee",
   "metadata": {},
   "outputs": [],
   "source": [
    "# Transforming content rating column\n",
    "\n",
    "def simplify_content_rating(value):\n",
    "    if value in ['Everyone','Everyone 10+']:\n",
    "        return 'Everyone'\n",
    "    elif value in ['Teen']:\n",
    "        return 'Teen'\n",
    "    elif value in ['Mature 17+','Adults only 18+']:\n",
    "        return 'Adults 18+'\n",
    "    elif value=='Unrated':\n",
    "        return 'Unknown'\n",
    "    else:\n",
    "        return value\n",
    "    "
   ]
  },
  {
   "cell_type": "code",
   "execution_count": 47,
   "id": "e302d092-416f-4833-8e87-147c2f9c5321",
   "metadata": {},
   "outputs": [],
   "source": [
    "data['Content Rating']=data['Content Rating'].apply(simplify_content_rating)"
   ]
  },
  {
   "cell_type": "code",
   "execution_count": 48,
   "id": "83a6066c-9bb7-409b-b52b-abef16f87f6a",
   "metadata": {},
   "outputs": [
    {
     "data": {
      "text/plain": [
       "Content Rating\n",
       "Everyone      9117\n",
       "Teen          1208\n",
       "Adults 18+     502\n",
       "Unknown          2\n",
       "Name: count, dtype: int64"
      ]
     },
     "execution_count": 48,
     "metadata": {},
     "output_type": "execute_result"
    }
   ],
   "source": [
    "data['Content Rating'].value_counts()"
   ]
  },
  {
   "cell_type": "markdown",
   "id": "821811db-f26f-496a-a948-0d11c6c7de9b",
   "metadata": {},
   "source": [
    "Now there are these 4 categories in Content Rating column"
   ]
  },
  {
   "cell_type": "markdown",
   "id": "9de3d271-a1c6-43ec-abe8-264bcda8a3da",
   "metadata": {},
   "source": [
    "#### Transforming Genres column"
   ]
  },
  {
   "cell_type": "code",
   "execution_count": 49,
   "id": "69f421d4-4a51-4af9-853b-cfe423314bfa",
   "metadata": {},
   "outputs": [
    {
     "data": {
      "text/plain": [
       "array(['Art & Design', 'Art & Design;Pretend Play',\n",
       "       'Art & Design;Creativity', 'Art & Design;Action & Adventure',\n",
       "       'Auto & Vehicles', 'Beauty', 'Books & Reference', 'Business',\n",
       "       'Comics', 'Comics;Creativity', 'Communication', 'Dating',\n",
       "       'Education;Education', 'Education', 'Education;Creativity',\n",
       "       'Education;Music & Video', 'Education;Action & Adventure',\n",
       "       'Education;Pretend Play', 'Education;Brain Games', 'Entertainment',\n",
       "       'Entertainment;Music & Video', 'Entertainment;Brain Games',\n",
       "       'Entertainment;Creativity', 'Events', 'Finance', 'Food & Drink',\n",
       "       'Health & Fitness', 'House & Home', 'Libraries & Demo',\n",
       "       'Lifestyle', 'Lifestyle;Pretend Play',\n",
       "       'Adventure;Action & Adventure', 'Arcade', 'Casual', 'Card',\n",
       "       'Casual;Pretend Play', 'Action', 'Strategy', 'Puzzle', 'Sports',\n",
       "       'Music', 'Word', 'Racing', 'Casual;Creativity',\n",
       "       'Casual;Action & Adventure', 'Simulation', 'Adventure', 'Board',\n",
       "       'Trivia', 'Role Playing', 'Simulation;Education',\n",
       "       'Action;Action & Adventure', 'Casual;Brain Games',\n",
       "       'Simulation;Action & Adventure', 'Educational;Creativity',\n",
       "       'Puzzle;Brain Games', 'Educational;Education', 'Card;Brain Games',\n",
       "       'Educational;Brain Games', 'Educational;Pretend Play',\n",
       "       'Entertainment;Education', 'Casual;Education',\n",
       "       'Music;Music & Video', 'Racing;Action & Adventure',\n",
       "       'Arcade;Pretend Play', 'Role Playing;Action & Adventure',\n",
       "       'Simulation;Pretend Play', 'Puzzle;Creativity',\n",
       "       'Sports;Action & Adventure', 'Educational;Action & Adventure',\n",
       "       'Arcade;Action & Adventure', 'Entertainment;Action & Adventure',\n",
       "       'Puzzle;Action & Adventure', 'Strategy;Action & Adventure',\n",
       "       'Music & Audio;Music & Video', 'Health & Fitness;Education',\n",
       "       'Adventure;Education', 'Board;Brain Games',\n",
       "       'Board;Action & Adventure', 'Board;Pretend Play',\n",
       "       'Casual;Music & Video', 'Role Playing;Pretend Play',\n",
       "       'Entertainment;Pretend Play', 'Video Players & Editors;Creativity',\n",
       "       'Card;Action & Adventure', 'Medical', 'Social', 'Shopping',\n",
       "       'Photography', 'Travel & Local',\n",
       "       'Travel & Local;Action & Adventure', 'Tools', 'Tools;Education',\n",
       "       'Personalization', 'Productivity', 'Parenting',\n",
       "       'Parenting;Music & Video', 'Parenting;Education',\n",
       "       'Parenting;Brain Games', 'Weather', 'Video Players & Editors',\n",
       "       'Video Players & Editors;Music & Video', 'News & Magazines',\n",
       "       'Maps & Navigation', 'Health & Fitness;Action & Adventure',\n",
       "       'Educational', 'Casino', 'Adventure;Brain Games',\n",
       "       'Trivia;Education', 'Lifestyle;Education',\n",
       "       'Books & Reference;Creativity', 'Books & Reference;Education',\n",
       "       'Puzzle;Education', 'Role Playing;Education',\n",
       "       'Role Playing;Brain Games', 'Strategy;Education',\n",
       "       'Racing;Pretend Play', 'Communication;Creativity',\n",
       "       'Strategy;Creativity'], dtype=object)"
      ]
     },
     "execution_count": 49,
     "metadata": {},
     "output_type": "execute_result"
    }
   ],
   "source": [
    "data['Genres'].unique()"
   ]
  },
  {
   "cell_type": "code",
   "execution_count": 50,
   "id": "c2863fb9-1081-4a8d-bb49-03c5870d5493",
   "metadata": {},
   "outputs": [],
   "source": [
    "# Keeping only the first part of Genres values\n",
    "data['Genres']=data['Genres'].apply(lambda x:x.split(';')[0] if isinstance(x,str) else x)"
   ]
  },
  {
   "cell_type": "code",
   "execution_count": 51,
   "id": "a65ddea9-2bc5-4b7d-8023-069512cb5109",
   "metadata": {},
   "outputs": [
    {
     "data": {
      "text/plain": [
       "Genres\n",
       "Tools                      841\n",
       "Entertainment              666\n",
       "Education                  644\n",
       "Medical                    463\n",
       "Business                   460\n",
       "Productivity               424\n",
       "Sports                     402\n",
       "Personalization            390\n",
       "Communication              388\n",
       "Lifestyle                  383\n",
       "Action                     382\n",
       "Finance                    366\n",
       "Health & Fitness           343\n",
       "Photography                335\n",
       "Social                     295\n",
       "News & Magazines           283\n",
       "Casual                     270\n",
       "Shopping                   260\n",
       "Travel & Local             258\n",
       "Arcade                     237\n",
       "Dating                     234\n",
       "Books & Reference          233\n",
       "Simulation                 218\n",
       "Video Players & Editors    178\n",
       "Puzzle                     166\n",
       "Maps & Navigation          137\n",
       "Food & Drink               127\n",
       "Role Playing               123\n",
       "Racing                     119\n",
       "Educational                112\n",
       "Strategy                   110\n",
       "Adventure                   91\n",
       "House & Home                88\n",
       "Auto & Vehicles             85\n",
       "Libraries & Demo            84\n",
       "Weather                     82\n",
       "Art & Design                68\n",
       "Events                      64\n",
       "Board                       63\n",
       "Parenting                   60\n",
       "Comics                      60\n",
       "Beauty                      53\n",
       "Card                        51\n",
       "Trivia                      39\n",
       "Casino                      39\n",
       "Word                        29\n",
       "Music                       25\n",
       "Music & Audio                1\n",
       "Name: count, dtype: int64"
      ]
     },
     "execution_count": 51,
     "metadata": {},
     "output_type": "execute_result"
    }
   ],
   "source": [
    "data['Genres'].value_counts()"
   ]
  },
  {
   "cell_type": "markdown",
   "id": "87dc3d97-f736-4f88-bd3f-232acd125497",
   "metadata": {},
   "source": [
    "#### Checking and handling null values after cleaning"
   ]
  },
  {
   "cell_type": "code",
   "execution_count": 52,
   "id": "d8cdf603-997f-47b9-b3b5-e7938bc99ef0",
   "metadata": {},
   "outputs": [
    {
     "data": {
      "text/plain": [
       "App                     0\n",
       "Category                0\n",
       "Rating                  0\n",
       "Reviews                 0\n",
       "Size                 1694\n",
       "Installs                0\n",
       "Type                    0\n",
       "Price                   0\n",
       "Content Rating          0\n",
       "Genres                  0\n",
       "Last Updated            0\n",
       "Current Ver             0\n",
       "Android Ver             0\n",
       "Installs_Category       0\n",
       "dtype: int64"
      ]
     },
     "execution_count": 52,
     "metadata": {},
     "output_type": "execute_result"
    }
   ],
   "source": [
    "data.isnull().sum()"
   ]
  },
  {
   "cell_type": "markdown",
   "id": "e6380e3d-4119-4bbf-be21-1ea7300af35a",
   "metadata": {},
   "source": [
    "Null values are introduced in size column because we have replaced the value varies with device with null"
   ]
  },
  {
   "cell_type": "markdown",
   "id": "189bb5c0-2fae-40d6-bf9d-8ef4f982993f",
   "metadata": {},
   "source": [
    "Filling the null values with median size"
   ]
  },
  {
   "cell_type": "code",
   "execution_count": 53,
   "id": "2a04e994-44e1-4667-a65e-3c548ef424c4",
   "metadata": {},
   "outputs": [],
   "source": [
    "data['Size'].fillna(data['Size'].median(),inplace=True)"
   ]
  },
  {
   "cell_type": "code",
   "execution_count": 54,
   "id": "c6607ed0-2a29-4b43-8801-94075d92848d",
   "metadata": {},
   "outputs": [
    {
     "data": {
      "text/plain": [
       "App                  0\n",
       "Category             0\n",
       "Rating               0\n",
       "Reviews              0\n",
       "Size                 0\n",
       "Installs             0\n",
       "Type                 0\n",
       "Price                0\n",
       "Content Rating       0\n",
       "Genres               0\n",
       "Last Updated         0\n",
       "Current Ver          0\n",
       "Android Ver          0\n",
       "Installs_Category    0\n",
       "dtype: int64"
      ]
     },
     "execution_count": 54,
     "metadata": {},
     "output_type": "execute_result"
    }
   ],
   "source": [
    "data.isnull().sum()"
   ]
  },
  {
   "cell_type": "markdown",
   "id": "44d7a795-ff9d-4f96-9fc8-3928fe9041a5",
   "metadata": {},
   "source": [
    "#### Checking Duplicates"
   ]
  },
  {
   "cell_type": "code",
   "execution_count": 55,
   "id": "42049aa3-ef39-4c6c-b4ff-6fe0cf1a7ecb",
   "metadata": {},
   "outputs": [
    {
     "data": {
      "text/plain": [
       "483"
      ]
     },
     "execution_count": 55,
     "metadata": {},
     "output_type": "execute_result"
    }
   ],
   "source": [
    "# Duplicates\n",
    "data.duplicated().sum()"
   ]
  },
  {
   "cell_type": "markdown",
   "id": "d0d0924e-f998-448a-838a-a8ee241367b5",
   "metadata": {},
   "source": [
    "There are 483 duplicates rows"
   ]
  },
  {
   "cell_type": "markdown",
   "id": "79a95092-a05c-4552-8885-66194ad440b0",
   "metadata": {},
   "source": [
    "#### Dropping duplicates"
   ]
  },
  {
   "cell_type": "code",
   "execution_count": 56,
   "id": "358a5676-41b0-47f9-9e21-c153bcf05e9e",
   "metadata": {},
   "outputs": [],
   "source": [
    "data.drop_duplicates(inplace=True)"
   ]
  },
  {
   "cell_type": "code",
   "execution_count": 57,
   "id": "4c6daf2c-e23d-4f78-804a-d21cb5feb62c",
   "metadata": {},
   "outputs": [],
   "source": [
    "# Checking the correlation between numeric cols\n",
    "numeric_data=data.select_dtypes(['int','float'])"
   ]
  },
  {
   "cell_type": "code",
   "execution_count": 58,
   "id": "15b227ed-a6b2-40c6-b353-02762f775cb8",
   "metadata": {},
   "outputs": [
    {
     "data": {
      "text/plain": [
       "(10346, 14)"
      ]
     },
     "execution_count": 58,
     "metadata": {},
     "output_type": "execute_result"
    }
   ],
   "source": [
    "data.shape"
   ]
  },
  {
   "cell_type": "markdown",
   "id": "dcf2c5b8-9604-4257-8f82-b4a2213af8f7",
   "metadata": {},
   "source": [
    "Now we are left with only 10346 records"
   ]
  },
  {
   "cell_type": "markdown",
   "id": "bfbf48a8-e9ac-4adf-beb4-a08f2077dadc",
   "metadata": {},
   "source": [
    "### EDA"
   ]
  },
  {
   "cell_type": "markdown",
   "id": "f1da0f9a-1b79-44f9-ba13-089ce78d5771",
   "metadata": {},
   "source": [
    "#### 1. Checking correlation between numerical columns"
   ]
  },
  {
   "cell_type": "code",
   "execution_count": 59,
   "id": "7fbc89b5-0a56-4a4a-8d02-f4224fa4d33e",
   "metadata": {},
   "outputs": [
    {
     "data": {
      "text/html": [
       "<div>\n",
       "<style scoped>\n",
       "    .dataframe tbody tr th:only-of-type {\n",
       "        vertical-align: middle;\n",
       "    }\n",
       "\n",
       "    .dataframe tbody tr th {\n",
       "        vertical-align: top;\n",
       "    }\n",
       "\n",
       "    .dataframe thead th {\n",
       "        text-align: right;\n",
       "    }\n",
       "</style>\n",
       "<table border=\"1\" class=\"dataframe\">\n",
       "  <thead>\n",
       "    <tr style=\"text-align: right;\">\n",
       "      <th></th>\n",
       "      <th>Rating</th>\n",
       "      <th>Reviews</th>\n",
       "      <th>Size</th>\n",
       "      <th>Installs</th>\n",
       "      <th>Price</th>\n",
       "    </tr>\n",
       "  </thead>\n",
       "  <tbody>\n",
       "    <tr>\n",
       "      <th>Rating</th>\n",
       "      <td>1.000000</td>\n",
       "      <td>0.068359</td>\n",
       "      <td>0.062442</td>\n",
       "      <td>0.050462</td>\n",
       "      <td>-0.020575</td>\n",
       "    </tr>\n",
       "    <tr>\n",
       "      <th>Reviews</th>\n",
       "      <td>0.068359</td>\n",
       "      <td>1.000000</td>\n",
       "      <td>0.107741</td>\n",
       "      <td>0.634987</td>\n",
       "      <td>-0.009424</td>\n",
       "    </tr>\n",
       "    <tr>\n",
       "      <th>Size</th>\n",
       "      <td>0.062442</td>\n",
       "      <td>0.107741</td>\n",
       "      <td>1.000000</td>\n",
       "      <td>0.050008</td>\n",
       "      <td>-0.020578</td>\n",
       "    </tr>\n",
       "    <tr>\n",
       "      <th>Installs</th>\n",
       "      <td>0.050462</td>\n",
       "      <td>0.634987</td>\n",
       "      <td>0.050008</td>\n",
       "      <td>1.000000</td>\n",
       "      <td>-0.011155</td>\n",
       "    </tr>\n",
       "    <tr>\n",
       "      <th>Price</th>\n",
       "      <td>-0.020575</td>\n",
       "      <td>-0.009424</td>\n",
       "      <td>-0.020578</td>\n",
       "      <td>-0.011155</td>\n",
       "      <td>1.000000</td>\n",
       "    </tr>\n",
       "  </tbody>\n",
       "</table>\n",
       "</div>"
      ],
      "text/plain": [
       "            Rating   Reviews      Size  Installs     Price\n",
       "Rating    1.000000  0.068359  0.062442  0.050462 -0.020575\n",
       "Reviews   0.068359  1.000000  0.107741  0.634987 -0.009424\n",
       "Size      0.062442  0.107741  1.000000  0.050008 -0.020578\n",
       "Installs  0.050462  0.634987  0.050008  1.000000 -0.011155\n",
       "Price    -0.020575 -0.009424 -0.020578 -0.011155  1.000000"
      ]
     },
     "execution_count": 59,
     "metadata": {},
     "output_type": "execute_result"
    }
   ],
   "source": [
    "numeric_data.corr()"
   ]
  },
  {
   "cell_type": "code",
   "execution_count": 60,
   "id": "2a9f52af-49b7-4f7b-9954-a04aa53387c2",
   "metadata": {},
   "outputs": [
    {
     "data": {
      "image/png": "[encoded data removed]",
      "text/plain": [
       "<Figure size 640x480 with 2 Axes>"
      ]
     },
     "metadata": {},
     "output_type": "display_data"
    }
   ],
   "source": [
    "sns.heatmap(numeric_data.corr(), cmap='coolwarm')\n",
    "plt.show()"
   ]
  },
  {
   "cell_type": "markdown",
   "id": "8a235bb4-5a31-46b1-8ad2-13eab9af14b7",
   "metadata": {},
   "source": [
    " There is high correlation between Installs and Reviews columns"
   ]
  },
  {
   "cell_type": "markdown",
   "id": "d6c2dcc0-12aa-4ce1-892b-d6474453414b",
   "metadata": {},
   "source": [
    "#### 2. Average Rating by Genres"
   ]
  },
  {
   "cell_type": "code",
   "execution_count": 61,
   "id": "cb113bb0-4363-4fb3-90c6-97d18322cd11",
   "metadata": {},
   "outputs": [
    {
     "data": {
      "text/html": [
       "<div>\n",
       "<style scoped>\n",
       "    .dataframe tbody tr th:only-of-type {\n",
       "        vertical-align: middle;\n",
       "    }\n",
       "\n",
       "    .dataframe tbody tr th {\n",
       "        vertical-align: top;\n",
       "    }\n",
       "\n",
       "    .dataframe thead th {\n",
       "        text-align: right;\n",
       "    }\n",
       "</style>\n",
       "<table border=\"1\" class=\"dataframe\">\n",
       "  <thead>\n",
       "    <tr style=\"text-align: right;\">\n",
       "      <th></th>\n",
       "      <th>Rating</th>\n",
       "    </tr>\n",
       "    <tr>\n",
       "      <th>Genres</th>\n",
       "      <th></th>\n",
       "    </tr>\n",
       "  </thead>\n",
       "  <tbody>\n",
       "    <tr>\n",
       "      <th>Word</th>\n",
       "      <td>4.389048</td>\n",
       "    </tr>\n",
       "    <tr>\n",
       "      <th>Events</th>\n",
       "      <td>4.363647</td>\n",
       "    </tr>\n",
       "    <tr>\n",
       "      <th>Puzzle</th>\n",
       "      <td>4.363189</td>\n",
       "    </tr>\n",
       "    <tr>\n",
       "      <th>Art &amp; Design</th>\n",
       "      <td>4.356961</td>\n",
       "    </tr>\n",
       "    <tr>\n",
       "      <th>Books &amp; Reference</th>\n",
       "      <td>4.310978</td>\n",
       "    </tr>\n",
       "    <tr>\n",
       "      <th>Personalization</th>\n",
       "      <td>4.304871</td>\n",
       "    </tr>\n",
       "    <tr>\n",
       "      <th>Music &amp; Audio</th>\n",
       "      <td>4.300000</td>\n",
       "    </tr>\n",
       "    <tr>\n",
       "      <th>Arcade</th>\n",
       "      <td>4.299174</td>\n",
       "    </tr>\n",
       "    <tr>\n",
       "      <th>Board</th>\n",
       "      <td>4.294921</td>\n",
       "    </tr>\n",
       "    <tr>\n",
       "      <th>Education</th>\n",
       "      <td>4.289426</td>\n",
       "    </tr>\n",
       "  </tbody>\n",
       "</table>\n",
       "</div>"
      ],
      "text/plain": [
       "                     Rating\n",
       "Genres                     \n",
       "Word               4.389048\n",
       "Events             4.363647\n",
       "Puzzle             4.363189\n",
       "Art & Design       4.356961\n",
       "Books & Reference  4.310978\n",
       "Personalization    4.304871\n",
       "Music & Audio      4.300000\n",
       "Arcade             4.299174\n",
       "Board              4.294921\n",
       "Education          4.289426"
      ]
     },
     "execution_count": 61,
     "metadata": {},
     "output_type": "execute_result"
    }
   ],
   "source": [
    "data[['Rating','Genres']].groupby('Genres').mean().sort_values(by='Rating',ascending=False).head(10)"
   ]
  },
  {
   "cell_type": "markdown",
   "id": "b69029fb-baa9-43c9-b66d-7a3df8a173dd",
   "metadata": {},
   "source": [
    "Genre 'Word' has highest rating followed by Genre 'Events'"
   ]
  },
  {
   "cell_type": "markdown",
   "id": "76dcfc0c-07db-40c9-9dbb-1511088de720",
   "metadata": {},
   "source": [
    "#### 3. Free vs. Paid App Performance"
   ]
  },
  {
   "cell_type": "code",
   "execution_count": 62,
   "id": "ebbce5e2-caf4-4f1c-8b0c-1f92d5f62ff8",
   "metadata": {},
   "outputs": [
    {
     "data": {
      "text/html": [
       "<div>\n",
       "<style scoped>\n",
       "    .dataframe tbody tr th:only-of-type {\n",
       "        vertical-align: middle;\n",
       "    }\n",
       "\n",
       "    .dataframe tbody tr th {\n",
       "        vertical-align: top;\n",
       "    }\n",
       "\n",
       "    .dataframe thead th {\n",
       "        text-align: right;\n",
       "    }\n",
       "</style>\n",
       "<table border=\"1\" class=\"dataframe\">\n",
       "  <thead>\n",
       "    <tr style=\"text-align: right;\">\n",
       "      <th></th>\n",
       "      <th>Rating</th>\n",
       "      <th>Installs</th>\n",
       "    </tr>\n",
       "    <tr>\n",
       "      <th>Type</th>\n",
       "      <th></th>\n",
       "      <th></th>\n",
       "    </tr>\n",
       "  </thead>\n",
       "  <tbody>\n",
       "    <tr>\n",
       "      <th>Free</th>\n",
       "      <td>4.183992</td>\n",
       "      <td>1.529227e+07</td>\n",
       "    </tr>\n",
       "    <tr>\n",
       "      <th>Paid</th>\n",
       "      <td>4.248155</td>\n",
       "      <td>9.078067e+04</td>\n",
       "    </tr>\n",
       "  </tbody>\n",
       "</table>\n",
       "</div>"
      ],
      "text/plain": [
       "        Rating      Installs\n",
       "Type                        \n",
       "Free  4.183992  1.529227e+07\n",
       "Paid  4.248155  9.078067e+04"
      ]
     },
     "execution_count": 62,
     "metadata": {},
     "output_type": "execute_result"
    }
   ],
   "source": [
    "data[['Type','Rating','Installs']].groupby('Type').mean()"
   ]
  },
  {
   "cell_type": "markdown",
   "id": "85d4ec6a-9496-4cb0-b386-ae61ea342455",
   "metadata": {},
   "source": [
    "Free apps has more installs as compared with Paid apps but Paid apps has higher rating than Free apps."
   ]
  },
  {
   "cell_type": "markdown",
   "id": "0be24367-c9b3-419c-9119-e7113e271873",
   "metadata": {},
   "source": [
    "#### Average Size and Rating by Install Category"
   ]
  },
  {
   "cell_type": "code",
   "execution_count": 63,
   "id": "15f4de70-fdf8-43d6-b3cb-e290f3156583",
   "metadata": {},
   "outputs": [
    {
     "data": {
      "text/html": [
       "<div>\n",
       "<style scoped>\n",
       "    .dataframe tbody tr th:only-of-type {\n",
       "        vertical-align: middle;\n",
       "    }\n",
       "\n",
       "    .dataframe tbody tr th {\n",
       "        vertical-align: top;\n",
       "    }\n",
       "\n",
       "    .dataframe thead th {\n",
       "        text-align: right;\n",
       "    }\n",
       "</style>\n",
       "<table border=\"1\" class=\"dataframe\">\n",
       "  <thead>\n",
       "    <tr style=\"text-align: right;\">\n",
       "      <th></th>\n",
       "      <th>Size</th>\n",
       "      <th>Rating</th>\n",
       "    </tr>\n",
       "    <tr>\n",
       "      <th>Installs_Category</th>\n",
       "      <th></th>\n",
       "      <th></th>\n",
       "    </tr>\n",
       "  </thead>\n",
       "  <tbody>\n",
       "    <tr>\n",
       "      <th>no</th>\n",
       "      <td>13.028571</td>\n",
       "      <td>4.193338</td>\n",
       "    </tr>\n",
       "    <tr>\n",
       "      <th>Very low</th>\n",
       "      <td>13.913342</td>\n",
       "      <td>4.260767</td>\n",
       "    </tr>\n",
       "    <tr>\n",
       "      <th>Low</th>\n",
       "      <td>13.946622</td>\n",
       "      <td>4.179604</td>\n",
       "    </tr>\n",
       "    <tr>\n",
       "      <th>Moderate</th>\n",
       "      <td>14.973934</td>\n",
       "      <td>4.040645</td>\n",
       "    </tr>\n",
       "    <tr>\n",
       "      <th>More than moderate</th>\n",
       "      <td>19.032120</td>\n",
       "      <td>4.096563</td>\n",
       "    </tr>\n",
       "    <tr>\n",
       "      <th>High</th>\n",
       "      <td>23.725691</td>\n",
       "      <td>4.207079</td>\n",
       "    </tr>\n",
       "    <tr>\n",
       "      <th>Very High</th>\n",
       "      <td>26.259301</td>\n",
       "      <td>4.285675</td>\n",
       "    </tr>\n",
       "    <tr>\n",
       "      <th>Top Notch</th>\n",
       "      <td>29.771238</td>\n",
       "      <td>4.372170</td>\n",
       "    </tr>\n",
       "  </tbody>\n",
       "</table>\n",
       "</div>"
      ],
      "text/plain": [
       "                         Size    Rating\n",
       "Installs_Category                      \n",
       "no                  13.028571  4.193338\n",
       "Very low            13.913342  4.260767\n",
       "Low                 13.946622  4.179604\n",
       "Moderate            14.973934  4.040645\n",
       "More than moderate  19.032120  4.096563\n",
       "High                23.725691  4.207079\n",
       "Very High           26.259301  4.285675\n",
       "Top Notch           29.771238  4.372170"
      ]
     },
     "execution_count": 63,
     "metadata": {},
     "output_type": "execute_result"
    }
   ],
   "source": [
    "data[['Size','Rating','Installs_Category']].groupby('Installs_Category').mean()"
   ]
  },
  {
   "cell_type": "markdown",
   "id": "fa760d1b-bab8-4e15-8271-ed80dc803dad",
   "metadata": {},
   "source": [
    "We can see that installs_category is directly proportional to Size of app . It means the apps which are higher in size have higher installs."
   ]
  },
  {
   "cell_type": "markdown",
   "id": "5771f627-762b-4815-af1c-5b115def873b",
   "metadata": {},
   "source": [
    "#### Category having highest number of apps"
   ]
  },
  {
   "cell_type": "code",
   "execution_count": 64,
   "id": "eb2a1afd-ff0e-4004-87db-1f1c0bc6130b",
   "metadata": {},
   "outputs": [
    {
     "data": {
      "text/html": [
       "<div>\n",
       "<style scoped>\n",
       "    .dataframe tbody tr th:only-of-type {\n",
       "        vertical-align: middle;\n",
       "    }\n",
       "\n",
       "    .dataframe tbody tr th {\n",
       "        vertical-align: top;\n",
       "    }\n",
       "\n",
       "    .dataframe thead th {\n",
       "        text-align: right;\n",
       "    }\n",
       "</style>\n",
       "<table border=\"1\" class=\"dataframe\">\n",
       "  <thead>\n",
       "    <tr style=\"text-align: right;\">\n",
       "      <th></th>\n",
       "      <th>App</th>\n",
       "    </tr>\n",
       "    <tr>\n",
       "      <th>Category</th>\n",
       "      <th></th>\n",
       "    </tr>\n",
       "  </thead>\n",
       "  <tbody>\n",
       "    <tr>\n",
       "      <th>FAMILY</th>\n",
       "      <td>1939</td>\n",
       "    </tr>\n",
       "    <tr>\n",
       "      <th>GAME</th>\n",
       "      <td>1121</td>\n",
       "    </tr>\n",
       "    <tr>\n",
       "      <th>TOOLS</th>\n",
       "      <td>841</td>\n",
       "    </tr>\n",
       "    <tr>\n",
       "      <th>BUSINESS</th>\n",
       "      <td>427</td>\n",
       "    </tr>\n",
       "    <tr>\n",
       "      <th>MEDICAL</th>\n",
       "      <td>408</td>\n",
       "    </tr>\n",
       "    <tr>\n",
       "      <th>PRODUCTIVITY</th>\n",
       "      <td>407</td>\n",
       "    </tr>\n",
       "    <tr>\n",
       "      <th>PERSONALIZATION</th>\n",
       "      <td>386</td>\n",
       "    </tr>\n",
       "    <tr>\n",
       "      <th>LIFESTYLE</th>\n",
       "      <td>373</td>\n",
       "    </tr>\n",
       "    <tr>\n",
       "      <th>COMMUNICATION</th>\n",
       "      <td>366</td>\n",
       "    </tr>\n",
       "    <tr>\n",
       "      <th>FINANCE</th>\n",
       "      <td>360</td>\n",
       "    </tr>\n",
       "    <tr>\n",
       "      <th>SPORTS</th>\n",
       "      <td>351</td>\n",
       "    </tr>\n",
       "    <tr>\n",
       "      <th>PHOTOGRAPHY</th>\n",
       "      <td>322</td>\n",
       "    </tr>\n",
       "    <tr>\n",
       "      <th>HEALTH_AND_FITNESS</th>\n",
       "      <td>306</td>\n",
       "    </tr>\n",
       "    <tr>\n",
       "      <th>SOCIAL</th>\n",
       "      <td>280</td>\n",
       "    </tr>\n",
       "    <tr>\n",
       "      <th>NEWS_AND_MAGAZINES</th>\n",
       "      <td>264</td>\n",
       "    </tr>\n",
       "    <tr>\n",
       "      <th>TRAVEL_AND_LOCAL</th>\n",
       "      <td>237</td>\n",
       "    </tr>\n",
       "    <tr>\n",
       "      <th>BOOKS_AND_REFERENCE</th>\n",
       "      <td>229</td>\n",
       "    </tr>\n",
       "    <tr>\n",
       "      <th>SHOPPING</th>\n",
       "      <td>224</td>\n",
       "    </tr>\n",
       "    <tr>\n",
       "      <th>DATING</th>\n",
       "      <td>196</td>\n",
       "    </tr>\n",
       "    <tr>\n",
       "      <th>VIDEO_PLAYERS</th>\n",
       "      <td>175</td>\n",
       "    </tr>\n",
       "    <tr>\n",
       "      <th>MAPS_AND_NAVIGATION</th>\n",
       "      <td>137</td>\n",
       "    </tr>\n",
       "    <tr>\n",
       "      <th>EDUCATION</th>\n",
       "      <td>130</td>\n",
       "    </tr>\n",
       "    <tr>\n",
       "      <th>FOOD_AND_DRINK</th>\n",
       "      <td>124</td>\n",
       "    </tr>\n",
       "    <tr>\n",
       "      <th>ENTERTAINMENT</th>\n",
       "      <td>111</td>\n",
       "    </tr>\n",
       "    <tr>\n",
       "      <th>AUTO_AND_VEHICLES</th>\n",
       "      <td>85</td>\n",
       "    </tr>\n",
       "    <tr>\n",
       "      <th>LIBRARIES_AND_DEMO</th>\n",
       "      <td>84</td>\n",
       "    </tr>\n",
       "    <tr>\n",
       "      <th>WEATHER</th>\n",
       "      <td>82</td>\n",
       "    </tr>\n",
       "    <tr>\n",
       "      <th>HOUSE_AND_HOME</th>\n",
       "      <td>80</td>\n",
       "    </tr>\n",
       "    <tr>\n",
       "      <th>EVENTS</th>\n",
       "      <td>64</td>\n",
       "    </tr>\n",
       "    <tr>\n",
       "      <th>ART_AND_DESIGN</th>\n",
       "      <td>64</td>\n",
       "    </tr>\n",
       "    <tr>\n",
       "      <th>PARENTING</th>\n",
       "      <td>60</td>\n",
       "    </tr>\n",
       "    <tr>\n",
       "      <th>COMICS</th>\n",
       "      <td>60</td>\n",
       "    </tr>\n",
       "    <tr>\n",
       "      <th>BEAUTY</th>\n",
       "      <td>53</td>\n",
       "    </tr>\n",
       "  </tbody>\n",
       "</table>\n",
       "</div>"
      ],
      "text/plain": [
       "                      App\n",
       "Category                 \n",
       "FAMILY               1939\n",
       "GAME                 1121\n",
       "TOOLS                 841\n",
       "BUSINESS              427\n",
       "MEDICAL               408\n",
       "PRODUCTIVITY          407\n",
       "PERSONALIZATION       386\n",
       "LIFESTYLE             373\n",
       "COMMUNICATION         366\n",
       "FINANCE               360\n",
       "SPORTS                351\n",
       "PHOTOGRAPHY           322\n",
       "HEALTH_AND_FITNESS    306\n",
       "SOCIAL                280\n",
       "NEWS_AND_MAGAZINES    264\n",
       "TRAVEL_AND_LOCAL      237\n",
       "BOOKS_AND_REFERENCE   229\n",
       "SHOPPING              224\n",
       "DATING                196\n",
       "VIDEO_PLAYERS         175\n",
       "MAPS_AND_NAVIGATION   137\n",
       "EDUCATION             130\n",
       "FOOD_AND_DRINK        124\n",
       "ENTERTAINMENT         111\n",
       "AUTO_AND_VEHICLES      85\n",
       "LIBRARIES_AND_DEMO     84\n",
       "WEATHER                82\n",
       "HOUSE_AND_HOME         80\n",
       "EVENTS                 64\n",
       "ART_AND_DESIGN         64\n",
       "PARENTING              60\n",
       "COMICS                 60\n",
       "BEAUTY                 53"
      ]
     },
     "execution_count": 64,
     "metadata": {},
     "output_type": "execute_result"
    }
   ],
   "source": [
    "data[['Category','App']].groupby('Category').count().sort_values(by='App',ascending=False)"
   ]
  },
  {
   "cell_type": "markdown",
   "id": "79117c63-ca03-497b-8a0b-2c903ed0bf9c",
   "metadata": {},
   "source": [
    "Family category of apps has highest number of apps followed by Game Category."
   ]
  },
  {
   "cell_type": "markdown",
   "id": "1553418e-c3cb-4098-b55e-969375e87555",
   "metadata": {},
   "source": [
    "#### Category having highest number of installs"
   ]
  },
  {
   "cell_type": "code",
   "execution_count": 65,
   "id": "8e5657fe-7d1a-4cca-b2bf-cab6cdcd2da4",
   "metadata": {},
   "outputs": [
    {
     "data": {
      "text/html": [
       "<div>\n",
       "<style scoped>\n",
       "    .dataframe tbody tr th:only-of-type {\n",
       "        vertical-align: middle;\n",
       "    }\n",
       "\n",
       "    .dataframe tbody tr th {\n",
       "        vertical-align: top;\n",
       "    }\n",
       "\n",
       "    .dataframe thead th {\n",
       "        text-align: right;\n",
       "    }\n",
       "</style>\n",
       "<table border=\"1\" class=\"dataframe\">\n",
       "  <thead>\n",
       "    <tr style=\"text-align: right;\">\n",
       "      <th></th>\n",
       "      <th>Installs</th>\n",
       "    </tr>\n",
       "    <tr>\n",
       "      <th>Category</th>\n",
       "      <th></th>\n",
       "    </tr>\n",
       "  </thead>\n",
       "  <tbody>\n",
       "    <tr>\n",
       "      <th>GAME</th>\n",
       "      <td>31544024415</td>\n",
       "    </tr>\n",
       "    <tr>\n",
       "      <th>COMMUNICATION</th>\n",
       "      <td>24152276251</td>\n",
       "    </tr>\n",
       "    <tr>\n",
       "      <th>SOCIAL</th>\n",
       "      <td>12513867902</td>\n",
       "    </tr>\n",
       "    <tr>\n",
       "      <th>PRODUCTIVITY</th>\n",
       "      <td>12463091369</td>\n",
       "    </tr>\n",
       "    <tr>\n",
       "      <th>TOOLS</th>\n",
       "      <td>11452271905</td>\n",
       "    </tr>\n",
       "    <tr>\n",
       "      <th>FAMILY</th>\n",
       "      <td>10041632405</td>\n",
       "    </tr>\n",
       "    <tr>\n",
       "      <th>PHOTOGRAPHY</th>\n",
       "      <td>9721247655</td>\n",
       "    </tr>\n",
       "    <tr>\n",
       "      <th>TRAVEL_AND_LOCAL</th>\n",
       "      <td>6361887146</td>\n",
       "    </tr>\n",
       "    <tr>\n",
       "      <th>VIDEO_PLAYERS</th>\n",
       "      <td>6222002720</td>\n",
       "    </tr>\n",
       "    <tr>\n",
       "      <th>NEWS_AND_MAGAZINES</th>\n",
       "      <td>5393217760</td>\n",
       "    </tr>\n",
       "    <tr>\n",
       "      <th>SHOPPING</th>\n",
       "      <td>2573348785</td>\n",
       "    </tr>\n",
       "    <tr>\n",
       "      <th>ENTERTAINMENT</th>\n",
       "      <td>2455660000</td>\n",
       "    </tr>\n",
       "    <tr>\n",
       "      <th>PERSONALIZATION</th>\n",
       "      <td>2074483782</td>\n",
       "    </tr>\n",
       "    <tr>\n",
       "      <th>BOOKS_AND_REFERENCE</th>\n",
       "      <td>1916468576</td>\n",
       "    </tr>\n",
       "    <tr>\n",
       "      <th>SPORTS</th>\n",
       "      <td>1528574498</td>\n",
       "    </tr>\n",
       "    <tr>\n",
       "      <th>HEALTH_AND_FITNESS</th>\n",
       "      <td>1361022512</td>\n",
       "    </tr>\n",
       "    <tr>\n",
       "      <th>BUSINESS</th>\n",
       "      <td>863664865</td>\n",
       "    </tr>\n",
       "    <tr>\n",
       "      <th>FINANCE</th>\n",
       "      <td>770348734</td>\n",
       "    </tr>\n",
       "    <tr>\n",
       "      <th>MAPS_AND_NAVIGATION</th>\n",
       "      <td>724281890</td>\n",
       "    </tr>\n",
       "    <tr>\n",
       "      <th>LIFESTYLE</th>\n",
       "      <td>534823539</td>\n",
       "    </tr>\n",
       "    <tr>\n",
       "      <th>EDUCATION</th>\n",
       "      <td>533952000</td>\n",
       "    </tr>\n",
       "    <tr>\n",
       "      <th>WEATHER</th>\n",
       "      <td>426100520</td>\n",
       "    </tr>\n",
       "    <tr>\n",
       "      <th>FOOD_AND_DRINK</th>\n",
       "      <td>257898751</td>\n",
       "    </tr>\n",
       "    <tr>\n",
       "      <th>DATING</th>\n",
       "      <td>206536107</td>\n",
       "    </tr>\n",
       "    <tr>\n",
       "      <th>HOUSE_AND_HOME</th>\n",
       "      <td>125212461</td>\n",
       "    </tr>\n",
       "    <tr>\n",
       "      <th>ART_AND_DESIGN</th>\n",
       "      <td>124333100</td>\n",
       "    </tr>\n",
       "    <tr>\n",
       "      <th>LIBRARIES_AND_DEMO</th>\n",
       "      <td>61995910</td>\n",
       "    </tr>\n",
       "    <tr>\n",
       "      <th>COMICS</th>\n",
       "      <td>56086150</td>\n",
       "    </tr>\n",
       "    <tr>\n",
       "      <th>AUTO_AND_VEHICLES</th>\n",
       "      <td>53130211</td>\n",
       "    </tr>\n",
       "    <tr>\n",
       "      <th>MEDICAL</th>\n",
       "      <td>42204177</td>\n",
       "    </tr>\n",
       "    <tr>\n",
       "      <th>PARENTING</th>\n",
       "      <td>31521110</td>\n",
       "    </tr>\n",
       "    <tr>\n",
       "      <th>BEAUTY</th>\n",
       "      <td>27197050</td>\n",
       "    </tr>\n",
       "    <tr>\n",
       "      <th>EVENTS</th>\n",
       "      <td>15973161</td>\n",
       "    </tr>\n",
       "  </tbody>\n",
       "</table>\n",
       "</div>"
      ],
      "text/plain": [
       "                        Installs\n",
       "Category                        \n",
       "GAME                 31544024415\n",
       "COMMUNICATION        24152276251\n",
       "SOCIAL               12513867902\n",
       "PRODUCTIVITY         12463091369\n",
       "TOOLS                11452271905\n",
       "FAMILY               10041632405\n",
       "PHOTOGRAPHY           9721247655\n",
       "TRAVEL_AND_LOCAL      6361887146\n",
       "VIDEO_PLAYERS         6222002720\n",
       "NEWS_AND_MAGAZINES    5393217760\n",
       "SHOPPING              2573348785\n",
       "ENTERTAINMENT         2455660000\n",
       "PERSONALIZATION       2074483782\n",
       "BOOKS_AND_REFERENCE   1916468576\n",
       "SPORTS                1528574498\n",
       "HEALTH_AND_FITNESS    1361022512\n",
       "BUSINESS               863664865\n",
       "FINANCE                770348734\n",
       "MAPS_AND_NAVIGATION    724281890\n",
       "LIFESTYLE              534823539\n",
       "EDUCATION              533952000\n",
       "WEATHER                426100520\n",
       "FOOD_AND_DRINK         257898751\n",
       "DATING                 206536107\n",
       "HOUSE_AND_HOME         125212461\n",
       "ART_AND_DESIGN         124333100\n",
       "LIBRARIES_AND_DEMO      61995910\n",
       "COMICS                  56086150\n",
       "AUTO_AND_VEHICLES       53130211\n",
       "MEDICAL                 42204177\n",
       "PARENTING               31521110\n",
       "BEAUTY                  27197050\n",
       "EVENTS                  15973161"
      ]
     },
     "execution_count": 65,
     "metadata": {},
     "output_type": "execute_result"
    }
   ],
   "source": [
    "data[['Category','Installs']].groupby('Category').sum().sort_values(by='Installs',ascending=False)"
   ]
  },
  {
   "cell_type": "markdown",
   "id": "1c41634b-c5a4-4119-ae6a-fd67f154722e",
   "metadata": {},
   "source": [
    "Game category of apps has highest number of installs . May be the mostly users are children installing games."
   ]
  },
  {
   "cell_type": "markdown",
   "id": "8f5c2cad-bb95-4b44-97c9-3f28bfe0c8f1",
   "metadata": {},
   "source": [
    "#### Category having highest number of reviews"
   ]
  },
  {
   "cell_type": "code",
   "execution_count": 66,
   "id": "8d1bdd74-402e-4af6-bc26-c4d5d58aee27",
   "metadata": {},
   "outputs": [
    {
     "data": {
      "text/html": [
       "<div>\n",
       "<style scoped>\n",
       "    .dataframe tbody tr th:only-of-type {\n",
       "        vertical-align: middle;\n",
       "    }\n",
       "\n",
       "    .dataframe tbody tr th {\n",
       "        vertical-align: top;\n",
       "    }\n",
       "\n",
       "    .dataframe thead th {\n",
       "        text-align: right;\n",
       "    }\n",
       "</style>\n",
       "<table border=\"1\" class=\"dataframe\">\n",
       "  <thead>\n",
       "    <tr style=\"text-align: right;\">\n",
       "      <th></th>\n",
       "      <th>Reviews</th>\n",
       "    </tr>\n",
       "    <tr>\n",
       "      <th>Category</th>\n",
       "      <th></th>\n",
       "    </tr>\n",
       "  </thead>\n",
       "  <tbody>\n",
       "    <tr>\n",
       "      <th>GAME</th>\n",
       "      <td>1415536650</td>\n",
       "    </tr>\n",
       "    <tr>\n",
       "      <th>COMMUNICATION</th>\n",
       "      <td>601273552</td>\n",
       "    </tr>\n",
       "    <tr>\n",
       "      <th>SOCIAL</th>\n",
       "      <td>533576829</td>\n",
       "    </tr>\n",
       "    <tr>\n",
       "      <th>FAMILY</th>\n",
       "      <td>396771746</td>\n",
       "    </tr>\n",
       "    <tr>\n",
       "      <th>TOOLS</th>\n",
       "      <td>273181033</td>\n",
       "    </tr>\n",
       "    <tr>\n",
       "      <th>PHOTOGRAPHY</th>\n",
       "      <td>204297410</td>\n",
       "    </tr>\n",
       "    <tr>\n",
       "      <th>VIDEO_PLAYERS</th>\n",
       "      <td>110380188</td>\n",
       "    </tr>\n",
       "    <tr>\n",
       "      <th>PRODUCTIVITY</th>\n",
       "      <td>102554498</td>\n",
       "    </tr>\n",
       "    <tr>\n",
       "      <th>SHOPPING</th>\n",
       "      <td>94931162</td>\n",
       "    </tr>\n",
       "    <tr>\n",
       "      <th>PERSONALIZATION</th>\n",
       "      <td>75192744</td>\n",
       "    </tr>\n",
       "    <tr>\n",
       "      <th>SPORTS</th>\n",
       "      <td>65322708</td>\n",
       "    </tr>\n",
       "    <tr>\n",
       "      <th>TRAVEL_AND_LOCAL</th>\n",
       "      <td>55565160</td>\n",
       "    </tr>\n",
       "    <tr>\n",
       "      <th>ENTERTAINMENT</th>\n",
       "      <td>47570716</td>\n",
       "    </tr>\n",
       "    <tr>\n",
       "      <th>NEWS_AND_MAGAZINES</th>\n",
       "      <td>38245873</td>\n",
       "    </tr>\n",
       "    <tr>\n",
       "      <th>HEALTH_AND_FITNESS</th>\n",
       "      <td>30845186</td>\n",
       "    </tr>\n",
       "    <tr>\n",
       "      <th>MAPS_AND_NAVIGATION</th>\n",
       "      <td>30659254</td>\n",
       "    </tr>\n",
       "    <tr>\n",
       "      <th>EDUCATION</th>\n",
       "      <td>23165500</td>\n",
       "    </tr>\n",
       "    <tr>\n",
       "      <th>BOOKS_AND_REFERENCE</th>\n",
       "      <td>21873219</td>\n",
       "    </tr>\n",
       "    <tr>\n",
       "      <th>FINANCE</th>\n",
       "      <td>16999891</td>\n",
       "    </tr>\n",
       "    <tr>\n",
       "      <th>WEATHER</th>\n",
       "      <td>14604735</td>\n",
       "    </tr>\n",
       "    <tr>\n",
       "      <th>LIFESTYLE</th>\n",
       "      <td>12820575</td>\n",
       "    </tr>\n",
       "    <tr>\n",
       "      <th>BUSINESS</th>\n",
       "      <td>12358171</td>\n",
       "    </tr>\n",
       "    <tr>\n",
       "      <th>FOOD_AND_DRINK</th>\n",
       "      <td>7671576</td>\n",
       "    </tr>\n",
       "    <tr>\n",
       "      <th>DATING</th>\n",
       "      <td>5545397</td>\n",
       "    </tr>\n",
       "    <tr>\n",
       "      <th>COMICS</th>\n",
       "      <td>3383276</td>\n",
       "    </tr>\n",
       "    <tr>\n",
       "      <th>HOUSE_AND_HOME</th>\n",
       "      <td>2794772</td>\n",
       "    </tr>\n",
       "    <tr>\n",
       "      <th>ART_AND_DESIGN</th>\n",
       "      <td>1714385</td>\n",
       "    </tr>\n",
       "    <tr>\n",
       "      <th>MEDICAL</th>\n",
       "      <td>1396757</td>\n",
       "    </tr>\n",
       "    <tr>\n",
       "      <th>AUTO_AND_VEHICLES</th>\n",
       "      <td>1163666</td>\n",
       "    </tr>\n",
       "    <tr>\n",
       "      <th>LIBRARIES_AND_DEMO</th>\n",
       "      <td>1016973</td>\n",
       "    </tr>\n",
       "    <tr>\n",
       "      <th>PARENTING</th>\n",
       "      <td>958331</td>\n",
       "    </tr>\n",
       "    <tr>\n",
       "      <th>BEAUTY</th>\n",
       "      <td>396240</td>\n",
       "    </tr>\n",
       "    <tr>\n",
       "      <th>EVENTS</th>\n",
       "      <td>161018</td>\n",
       "    </tr>\n",
       "  </tbody>\n",
       "</table>\n",
       "</div>"
      ],
      "text/plain": [
       "                        Reviews\n",
       "Category                       \n",
       "GAME                 1415536650\n",
       "COMMUNICATION         601273552\n",
       "SOCIAL                533576829\n",
       "FAMILY                396771746\n",
       "TOOLS                 273181033\n",
       "PHOTOGRAPHY           204297410\n",
       "VIDEO_PLAYERS         110380188\n",
       "PRODUCTIVITY          102554498\n",
       "SHOPPING               94931162\n",
       "PERSONALIZATION        75192744\n",
       "SPORTS                 65322708\n",
       "TRAVEL_AND_LOCAL       55565160\n",
       "ENTERTAINMENT          47570716\n",
       "NEWS_AND_MAGAZINES     38245873\n",
       "HEALTH_AND_FITNESS     30845186\n",
       "MAPS_AND_NAVIGATION    30659254\n",
       "EDUCATION              23165500\n",
       "BOOKS_AND_REFERENCE    21873219\n",
       "FINANCE                16999891\n",
       "WEATHER                14604735\n",
       "LIFESTYLE              12820575\n",
       "BUSINESS               12358171\n",
       "FOOD_AND_DRINK          7671576\n",
       "DATING                  5545397\n",
       "COMICS                  3383276\n",
       "HOUSE_AND_HOME          2794772\n",
       "ART_AND_DESIGN          1714385\n",
       "MEDICAL                 1396757\n",
       "AUTO_AND_VEHICLES       1163666\n",
       "LIBRARIES_AND_DEMO      1016973\n",
       "PARENTING                958331\n",
       "BEAUTY                   396240\n",
       "EVENTS                   161018"
      ]
     },
     "execution_count": 66,
     "metadata": {},
     "output_type": "execute_result"
    }
   ],
   "source": [
    "data[['Category','Reviews']].groupby('Category').sum().sort_values(by='Reviews',ascending=False)"
   ]
  },
  {
   "cell_type": "markdown",
   "id": "fe704fc0-3aae-485a-ad50-1e25f3d730e4",
   "metadata": {},
   "source": [
    "Game category of apps has highest number of reviews. This may be because Game category has highest number of installs"
   ]
  },
  {
   "cell_type": "markdown",
   "id": "902fb10e-66a3-4186-a253-5f89144d38f7",
   "metadata": {},
   "source": [
    "#### Category having highest rating"
   ]
  },
  {
   "cell_type": "code",
   "execution_count": 67,
   "id": "b76467b2-9a7b-4462-8ea2-15b0092b1a89",
   "metadata": {},
   "outputs": [
    {
     "data": {
      "text/html": [
       "<div>\n",
       "<style scoped>\n",
       "    .dataframe tbody tr th:only-of-type {\n",
       "        vertical-align: middle;\n",
       "    }\n",
       "\n",
       "    .dataframe tbody tr th {\n",
       "        vertical-align: top;\n",
       "    }\n",
       "\n",
       "    .dataframe thead th {\n",
       "        text-align: right;\n",
       "    }\n",
       "</style>\n",
       "<table border=\"1\" class=\"dataframe\">\n",
       "  <thead>\n",
       "    <tr style=\"text-align: right;\">\n",
       "      <th></th>\n",
       "      <th>Rating</th>\n",
       "    </tr>\n",
       "    <tr>\n",
       "      <th>Category</th>\n",
       "      <th></th>\n",
       "    </tr>\n",
       "  </thead>\n",
       "  <tbody>\n",
       "    <tr>\n",
       "      <th>EDUCATION</th>\n",
       "      <td>4.374564</td>\n",
       "    </tr>\n",
       "    <tr>\n",
       "      <th>ART_AND_DESIGN</th>\n",
       "      <td>4.368438</td>\n",
       "    </tr>\n",
       "    <tr>\n",
       "      <th>EVENTS</th>\n",
       "      <td>4.363647</td>\n",
       "    </tr>\n",
       "    <tr>\n",
       "      <th>BOOKS_AND_REFERENCE</th>\n",
       "      <td>4.312461</td>\n",
       "    </tr>\n",
       "    <tr>\n",
       "      <th>PERSONALIZATION</th>\n",
       "      <td>4.304871</td>\n",
       "    </tr>\n",
       "    <tr>\n",
       "      <th>PARENTING</th>\n",
       "      <td>4.282223</td>\n",
       "    </tr>\n",
       "    <tr>\n",
       "      <th>GAME</th>\n",
       "      <td>4.277598</td>\n",
       "    </tr>\n",
       "    <tr>\n",
       "      <th>BEAUTY</th>\n",
       "      <td>4.260882</td>\n",
       "    </tr>\n",
       "    <tr>\n",
       "      <th>HEALTH_AND_FITNESS</th>\n",
       "      <td>4.251656</td>\n",
       "    </tr>\n",
       "    <tr>\n",
       "      <th>SOCIAL</th>\n",
       "      <td>4.247001</td>\n",
       "    </tr>\n",
       "    <tr>\n",
       "      <th>SHOPPING</th>\n",
       "      <td>4.245774</td>\n",
       "    </tr>\n",
       "    <tr>\n",
       "      <th>WEATHER</th>\n",
       "      <td>4.239675</td>\n",
       "    </tr>\n",
       "    <tr>\n",
       "      <th>SPORTS</th>\n",
       "      <td>4.219279</td>\n",
       "    </tr>\n",
       "    <tr>\n",
       "      <th>PRODUCTIVITY</th>\n",
       "      <td>4.200279</td>\n",
       "    </tr>\n",
       "    <tr>\n",
       "      <th>FAMILY</th>\n",
       "      <td>4.191501</td>\n",
       "    </tr>\n",
       "    <tr>\n",
       "      <th>AUTO_AND_VEHICLES</th>\n",
       "      <td>4.190824</td>\n",
       "    </tr>\n",
       "    <tr>\n",
       "      <th>MEDICAL</th>\n",
       "      <td>4.185279</td>\n",
       "    </tr>\n",
       "    <tr>\n",
       "      <th>PHOTOGRAPHY</th>\n",
       "      <td>4.183479</td>\n",
       "    </tr>\n",
       "    <tr>\n",
       "      <th>LIBRARIES_AND_DEMO</th>\n",
       "      <td>4.182938</td>\n",
       "    </tr>\n",
       "    <tr>\n",
       "      <th>HOUSE_AND_HOME</th>\n",
       "      <td>4.169001</td>\n",
       "    </tr>\n",
       "    <tr>\n",
       "      <th>FOOD_AND_DRINK</th>\n",
       "      <td>4.168388</td>\n",
       "    </tr>\n",
       "    <tr>\n",
       "      <th>COMMUNICATION</th>\n",
       "      <td>4.158216</td>\n",
       "    </tr>\n",
       "    <tr>\n",
       "      <th>COMICS</th>\n",
       "      <td>4.156445</td>\n",
       "    </tr>\n",
       "    <tr>\n",
       "      <th>NEWS_AND_MAGAZINES</th>\n",
       "      <td>4.140784</td>\n",
       "    </tr>\n",
       "    <tr>\n",
       "      <th>ENTERTAINMENT</th>\n",
       "      <td>4.136036</td>\n",
       "    </tr>\n",
       "    <tr>\n",
       "      <th>BUSINESS</th>\n",
       "      <td>4.135958</td>\n",
       "    </tr>\n",
       "    <tr>\n",
       "      <th>FINANCE</th>\n",
       "      <td>4.135315</td>\n",
       "    </tr>\n",
       "    <tr>\n",
       "      <th>LIFESTYLE</th>\n",
       "      <td>4.113799</td>\n",
       "    </tr>\n",
       "    <tr>\n",
       "      <th>TRAVEL_AND_LOCAL</th>\n",
       "      <td>4.107539</td>\n",
       "    </tr>\n",
       "    <tr>\n",
       "      <th>VIDEO_PLAYERS</th>\n",
       "      <td>4.074858</td>\n",
       "    </tr>\n",
       "    <tr>\n",
       "      <th>TOOLS</th>\n",
       "      <td>4.065970</td>\n",
       "    </tr>\n",
       "    <tr>\n",
       "      <th>MAPS_AND_NAVIGATION</th>\n",
       "      <td>4.065061</td>\n",
       "    </tr>\n",
       "    <tr>\n",
       "      <th>DATING</th>\n",
       "      <td>4.013538</td>\n",
       "    </tr>\n",
       "  </tbody>\n",
       "</table>\n",
       "</div>"
      ],
      "text/plain": [
       "                       Rating\n",
       "Category                     \n",
       "EDUCATION            4.374564\n",
       "ART_AND_DESIGN       4.368438\n",
       "EVENTS               4.363647\n",
       "BOOKS_AND_REFERENCE  4.312461\n",
       "PERSONALIZATION      4.304871\n",
       "PARENTING            4.282223\n",
       "GAME                 4.277598\n",
       "BEAUTY               4.260882\n",
       "HEALTH_AND_FITNESS   4.251656\n",
       "SOCIAL               4.247001\n",
       "SHOPPING             4.245774\n",
       "WEATHER              4.239675\n",
       "SPORTS               4.219279\n",
       "PRODUCTIVITY         4.200279\n",
       "FAMILY               4.191501\n",
       "AUTO_AND_VEHICLES    4.190824\n",
       "MEDICAL              4.185279\n",
       "PHOTOGRAPHY          4.183479\n",
       "LIBRARIES_AND_DEMO   4.182938\n",
       "HOUSE_AND_HOME       4.169001\n",
       "FOOD_AND_DRINK       4.168388\n",
       "COMMUNICATION        4.158216\n",
       "COMICS               4.156445\n",
       "NEWS_AND_MAGAZINES   4.140784\n",
       "ENTERTAINMENT        4.136036\n",
       "BUSINESS             4.135958\n",
       "FINANCE              4.135315\n",
       "LIFESTYLE            4.113799\n",
       "TRAVEL_AND_LOCAL     4.107539\n",
       "VIDEO_PLAYERS        4.074858\n",
       "TOOLS                4.065970\n",
       "MAPS_AND_NAVIGATION  4.065061\n",
       "DATING               4.013538"
      ]
     },
     "execution_count": 67,
     "metadata": {},
     "output_type": "execute_result"
    }
   ],
   "source": [
    "data[['Category','Rating']].groupby(by='Category').mean().sort_values(by='Rating',ascending=False)"
   ]
  },
  {
   "cell_type": "markdown",
   "id": "eb8a3b21-4d06-418f-a443-2142641e0294",
   "metadata": {},
   "source": [
    "Education Category has highest rating . It means that educational apps are liked most by users."
   ]
  },
  {
   "cell_type": "markdown",
   "id": "5e5b29c1-e2a2-4aff-9cb5-384e6c92dfe5",
   "metadata": {},
   "source": [
    "#### Most Expensive App"
   ]
  },
  {
   "cell_type": "code",
   "execution_count": 69,
   "id": "22a9b5c7-5a16-4bbb-8b8b-e253cd96a2b2",
   "metadata": {},
   "outputs": [
    {
     "data": {
      "text/html": [
       "<div>\n",
       "<style scoped>\n",
       "    .dataframe tbody tr th:only-of-type {\n",
       "        vertical-align: middle;\n",
       "    }\n",
       "\n",
       "    .dataframe tbody tr th {\n",
       "        vertical-align: top;\n",
       "    }\n",
       "\n",
       "    .dataframe thead th {\n",
       "        text-align: right;\n",
       "    }\n",
       "</style>\n",
       "<table border=\"1\" class=\"dataframe\">\n",
       "  <thead>\n",
       "    <tr style=\"text-align: right;\">\n",
       "      <th></th>\n",
       "      <th>App</th>\n",
       "      <th>Price</th>\n",
       "    </tr>\n",
       "  </thead>\n",
       "  <tbody>\n",
       "    <tr>\n",
       "      <th>4365</th>\n",
       "      <td>I'm Rich - Trump Edition</td>\n",
       "      <td>400.0</td>\n",
       "    </tr>\n",
       "  </tbody>\n",
       "</table>\n",
       "</div>"
      ],
      "text/plain": [
       "                           App  Price\n",
       "4365  I'm Rich - Trump Edition  400.0"
      ]
     },
     "execution_count": 69,
     "metadata": {},
     "output_type": "execute_result"
    }
   ],
   "source": [
    "paid_apps_data=data[data['Type']=='Paid']\n",
    "paid_apps_data.sort_values(by='Price',ascending=False)[['App','Price']].head(1)"
   ]
  },
  {
   "cell_type": "markdown",
   "id": "46ed8ac2-e4b6-4079-94d0-9ea276b55dc5",
   "metadata": {},
   "source": [
    "I'm Rich - Trump Edition is the most expensive app"
   ]
  },
  {
   "cell_type": "markdown",
   "id": "02140f85-b851-41c1-bd67-ce5a6e5a6136",
   "metadata": {},
   "source": [
    "### Visualization"
   ]
  },
  {
   "cell_type": "markdown",
   "id": "cb0cac23-7e8e-4c17-8380-af19eda4d8fc",
   "metadata": {},
   "source": [
    "#### 1. Distribution of Rating column"
   ]
  },
  {
   "cell_type": "code",
   "execution_count": 70,
   "id": "ccbdc52c-641d-4291-8070-c05381f18016",
   "metadata": {},
   "outputs": [
    {
     "data": {
      "text/plain": [
       "<Axes: xlabel='Rating', ylabel='Count'>"
      ]
     },
     "execution_count": 70,
     "metadata": {},
     "output_type": "execute_result"
    },
    {
     "data": {
      "image/png": "[encoded data removed]",
      "text/plain": [
       "<Figure size 640x480 with 1 Axes>"
      ]
     },
     "metadata": {},
     "output_type": "display_data"
    }
   ],
   "source": [
    "sns.histplot(data.Rating)"
   ]
  },
  {
   "cell_type": "markdown",
   "id": "3c2c559c-aa1c-4b88-a726-ee1a44024c79",
   "metadata": {},
   "source": [
    "Most of the ratings are between 4 to 5"
   ]
  },
  {
   "cell_type": "markdown",
   "id": "d422672a-a231-412a-a4e0-0eb59d733abb",
   "metadata": {},
   "source": [
    "#### Distribution of Free and Paid Apps"
   ]
  },
  {
   "cell_type": "code",
   "execution_count": 71,
   "id": "7282bbc8-d1ae-4228-a01d-03660fd291b2",
   "metadata": {},
   "outputs": [
    {
     "data": {
      "image/png": "[encoded data removed]",
      "text/plain": [
       "<Figure size 600x600 with 1 Axes>"
      ]
     },
     "metadata": {},
     "output_type": "display_data"
    }
   ],
   "source": [
    "data['Type'].value_counts().plot(kind='pie',startangle=140,figsize=(6,6),autopct='%1.1f%%')\n",
    "plt.title('Distribution of Free vs Paid Apps')\n",
    "plt.show()"
   ]
  },
  {
   "cell_type": "markdown",
   "id": "20f22be9-3042-47a9-9782-1f737cc2e08f",
   "metadata": {},
   "source": [
    "Free Apps are much higher in number as compared to Paid Apps"
   ]
  },
  {
   "cell_type": "markdown",
   "id": "14f7424f-dd01-4445-8116-a5692d0f5b83",
   "metadata": {},
   "source": [
    "#### Top 10 Genres by App Count"
   ]
  },
  {
   "cell_type": "code",
   "execution_count": 72,
   "id": "4f56a245-80a2-4c0f-8a82-a551e4ecc592",
   "metadata": {},
   "outputs": [
    {
     "data": {
      "text/plain": [
       "Genres\n",
       "Tools              841\n",
       "Entertainment      627\n",
       "Education          609\n",
       "Business           427\n",
       "Medical            408\n",
       "Productivity       407\n",
       "Personalization    386\n",
       "Lifestyle          374\n",
       "Action             371\n",
       "Sports             368\n",
       "Name: count, dtype: int64"
      ]
     },
     "execution_count": 72,
     "metadata": {},
     "output_type": "execute_result"
    }
   ],
   "source": [
    "top_genres=data['Genres'].value_counts().head(10)\n",
    "top_genres"
   ]
  },
  {
   "cell_type": "code",
   "execution_count": 73,
   "id": "9161650f-5c88-482f-ad7b-2605e4f00df6",
   "metadata": {},
   "outputs": [
    {
     "data": {
      "image/png": "[encoded data removed]",
      "text/plain": [
       "<Figure size 640x480 with 1 Axes>"
      ]
     },
     "metadata": {},
     "output_type": "display_data"
    }
   ],
   "source": [
    "sns.barplot(x=top_genres.values,y=top_genres.index,palette='viridis')\n",
    "plt.title('Top 10 App Genres by Count')\n",
    "plt.xlabel('Number of Apps')\n",
    "plt.ylabel('Genre')\n",
    "plt.show()"
   ]
  },
  {
   "cell_type": "markdown",
   "id": "cd264609-d63c-420a-ac01-b1cdf2dfa235",
   "metadata": {},
   "source": [
    "Hence, Tools Genre has highest number of Apps followed by entertainment."
   ]
  },
  {
   "cell_type": "markdown",
   "id": "9315cb73-f242-4df4-98e6-a352550383dc",
   "metadata": {},
   "source": [
    "#### Rating DIstribution of Free vs Paid Apps"
   ]
  },
  {
   "cell_type": "code",
   "execution_count": 74,
   "id": "2b23c59c-d049-4e3a-9869-0c4d8680ede4",
   "metadata": {},
   "outputs": [
    {
     "data": {
      "image/png": "[encoded data removed]",
      "text/plain": [
       "<Figure size 640x480 with 1 Axes>"
      ]
     },
     "metadata": {},
     "output_type": "display_data"
    }
   ],
   "source": [
    "# 3. Boxplot: Rating Distribution by App Type\n",
    "sns.boxplot(x='Type',y='Rating',data=data,palette='Set2')\n",
    "plt.title('Rating Distribution: Free vs Paid Apps')\n",
    "plt.show()"
   ]
  },
  {
   "cell_type": "markdown",
   "id": "48ab9ba5-b639-48d2-889a-eb008f2788a8",
   "metadata": {},
   "source": [
    "#### Correlation between App Size and Ratings"
   ]
  },
  {
   "cell_type": "code",
   "execution_count": 75,
   "id": "38fa92d0-a7db-465a-92c2-eba3d96637d8",
   "metadata": {},
   "outputs": [
    {
     "data": {
      "image/png": "[encoded data removed]",
      "text/plain": [
       "<Figure size 800x500 with 1 Axes>"
      ]
     },
     "metadata": {},
     "output_type": "display_data"
    }
   ],
   "source": [
    "plt.figure(figsize=(8,5))\n",
    "sns.scatterplot(data=data,x='Size',y='Rating',hue='Type')\n",
    "plt.title('App Size vs Rating')\n",
    "plt.xlabel('Size (MB)')\n",
    "plt.ylabel('Rating')\n",
    "plt.legend()\n",
    "plt.show()"
   ]
  },
  {
   "cell_type": "markdown",
   "id": "1521ba54-fa1f-46e0-882d-cbba49af9ca3",
   "metadata": {},
   "source": [
    "All Apps which are high in size have high rating between 3.5 to 5 but the apps which are small in size also have low rating."
   ]
  },
  {
   "cell_type": "markdown",
   "id": "8ac8bb63-9517-4816-9eee-507b46356d3c",
   "metadata": {},
   "source": [
    "#### Average Rating by Install Category"
   ]
  },
  {
   "cell_type": "code",
   "execution_count": 76,
   "id": "cca95aa4-90df-4101-9d62-b3f9c8a8ca64",
   "metadata": {},
   "outputs": [],
   "source": [
    "rating_by_installs = data.groupby('Installs_Category')['Rating'].mean().reindex(data['Installs_Category'].cat.categories)"
   ]
  },
  {
   "cell_type": "code",
   "execution_count": 77,
   "id": "8a843dbe-789e-4e0b-a472-ff37a8d5a7bd",
   "metadata": {},
   "outputs": [
    {
     "data": {
      "image/png": "[encoded data removed]",
      "text/plain": [
       "<Figure size 640x480 with 1 Axes>"
      ]
     },
     "metadata": {},
     "output_type": "display_data"
    }
   ],
   "source": [
    "rating_by_installs.plot(kind='bar', color='green')\n",
    "plt.title('Average Rating by Install Category')\n",
    "plt.xlabel('Install Category')\n",
    "plt.ylabel('Average Rating')\n",
    "plt.xticks(rotation=45)\n",
    "plt.show()"
   ]
  },
  {
   "cell_type": "markdown",
   "id": "67d289ce-5378-4396-993e-5358deb6ecfc",
   "metadata": {},
   "source": [
    "The ' Top Notch ' install category i.e apps having high installs have high average rating"
   ]
  },
  {
   "cell_type": "markdown",
   "id": "710fec36-ad75-4614-a055-2c8dc800d732",
   "metadata": {},
   "source": [
    "#### Top 10 Genres By Total Installs"
   ]
  },
  {
   "cell_type": "code",
   "execution_count": 78,
   "id": "eb29fe49-4bd7-470f-a96c-70c653f778d0",
   "metadata": {},
   "outputs": [
    {
     "data": {
      "image/png": "[encoded data removed]",
      "text/plain": [
       "<Figure size 640x480 with 1 Axes>"
      ]
     },
     "metadata": {},
     "output_type": "display_data"
    }
   ],
   "source": [
    "top_installed_genres=data[['Genres','Installs']].groupby('Genres').sum().reset_index().sort_values(by='Installs',ascending=False).head(10)\n",
    "sns.barplot(x='Installs',y='Genres',data=top_installed_genres,palette='mako')\n",
    "plt.title('Top 10 Genres by Total Installs')\n",
    "plt.xlabel('Total Installs')\n",
    "plt.ylabel('Genre')\n",
    "plt.show()"
   ]
  },
  {
   "cell_type": "markdown",
   "id": "fb727a53-9e66-416e-a251-0b67f872e2b4",
   "metadata": {},
   "source": [
    "Communication Genre have highest number of installs"
   ]
  },
  {
   "cell_type": "markdown",
   "id": "b693e02a-f586-4952-bee2-25e92a495297",
   "metadata": {},
   "source": [
    "#### Correlation between Price and Ratings of apps"
   ]
  },
  {
   "cell_type": "code",
   "execution_count": 79,
   "id": "1c11faa5-db51-44d3-803a-af6ee64cd6ae",
   "metadata": {},
   "outputs": [
    {
     "data": {
      "text/plain": [
       "<Axes: xlabel='Price', ylabel='Rating'>"
      ]
     },
     "execution_count": 79,
     "metadata": {},
     "output_type": "execute_result"
    },
    {
     "data": {
      "image/png": "[encoded data removed]",
      "text/plain": [
       "<Figure size 640x480 with 1 Axes>"
      ]
     },
     "metadata": {},
     "output_type": "display_data"
    }
   ],
   "source": [
    "paid_apps_data=data[data['Type']=='Paid']\n",
    "sns.scatterplot(x='Price',y='Rating',data=paid_apps_data)"
   ]
  },
  {
   "cell_type": "markdown",
   "id": "2ca15711-6a4b-4d44-91a6-d4c518242d29",
   "metadata": {},
   "source": [
    "Apps which have low price have mixed (low , high) ratings but the apps which are costly mostly have high rating"
   ]
  },
  {
   "cell_type": "markdown",
   "id": "d7ebf08c-4851-48f0-bb33-c3f6001271ef",
   "metadata": {},
   "source": [
    "#### Content Rating vs Installs"
   ]
  },
  {
   "cell_type": "code",
   "execution_count": 80,
   "id": "b16582a3-17e9-40f4-8812-30206ceabc3c",
   "metadata": {},
   "outputs": [
    {
     "data": {
      "text/plain": [
       "Content Rating\n",
       "Everyone      8748\n",
       "Teen          1146\n",
       "Adults 18+     450\n",
       "Unknown          2\n",
       "Name: count, dtype: int64"
      ]
     },
     "execution_count": 80,
     "metadata": {},
     "output_type": "execute_result"
    }
   ],
   "source": [
    "data['Content Rating'].value_counts()"
   ]
  },
  {
   "cell_type": "code",
   "execution_count": 81,
   "id": "b94832a2-9795-4dd8-bd44-6d9b15e3ef52",
   "metadata": {},
   "outputs": [
    {
     "data": {
      "image/png": "[encoded data removed]",
      "text/plain": [
       "<Figure size 640x480 with 1 Axes>"
      ]
     },
     "metadata": {},
     "output_type": "display_data"
    }
   ],
   "source": [
    "content_counts=data['Content Rating'].value_counts()\n",
    "sns.barplot(x=content_counts.index,y=content_counts.values,palette='Set2')\n",
    "plt.title('Number of Apps by Content Rating')\n",
    "plt.xlabel('Content Rating')\n",
    "plt.ylabel('Number of Apps')\n",
    "plt.xticks(rotation=45)\n",
    "plt.show()\n"
   ]
  },
  {
   "cell_type": "markdown",
   "id": "fc494354-f255-4640-a0c3-f58c32d70c16",
   "metadata": {},
   "source": [
    "Most of the Apps have content rating for everyone."
   ]
  },
  {
   "cell_type": "markdown",
   "id": "54251809-7808-408b-a288-5164bf523ed4",
   "metadata": {},
   "source": [
    "### Conclusion"
   ]
  },
  {
   "cell_type": "markdown",
   "id": "261f0d85-d12b-4a10-b6c5-2c656710b06e",
   "metadata": {},
   "source": [
    "Through extensive analysis of the Google Play Store dataset, we discovered several key insights:\n",
    "\n",
    "- **Free apps dominate** the marketplace, and they tend to have significantly higher install counts than paid apps.\n",
    "- App **genres such as Tools, Entertainment, and Education** have the largest number of offerings.\n",
    "- **Game and Communication apps** are among the most installed, but not necessarily the highest rated.\n",
    "- App **ratings do not strongly correlate with size or price**, though there is some variation across install categories.\n",
    "- **Paid apps are fewer** and do not guarantee higher ratings or installs.\n",
    "- Users tend to prefer apps that are **small in size** and belong to universally appealing content ratings like “Everyone”.\n",
    "\n",
    "This project demonstrates a full data analysis pipeline—from raw data cleaning to insightful visualizations and interpretation—using Python libraries such as Pandas, Matplotlib, and Seaborn."
   ]
  }
 ],
 "metadata": {
  "kernelspec": {
   "display_name": "Python (newenv)",
   "language": "python",
   "name": "newenv"
  },
  "language_info": {
   "codemirror_mode": {
    "name": "ipython",
    "version": 3
   },
   "file_extension": ".py",
   "mimetype": "text/x-python",
   "name": "python",
   "nbconvert_exporter": "python",
   "pygments_lexer": "ipython3",
   "version": "3.9.19"
  }
 },
 "nbformat": 4,
 "nbformat_minor": 5
}
